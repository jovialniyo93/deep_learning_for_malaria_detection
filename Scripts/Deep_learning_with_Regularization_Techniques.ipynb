{
 "cells": [
  {
   "cell_type": "markdown",
   "metadata": {
    "_uuid": "f2f22cc66949c8b7ace0f09aa16554a1614f6d96"
   },
   "source": [
    "One of the most common problem data science professionals face is to avoid **overfitting**. Have you come across a situation where your model performed exceptionally well on train data, but was not able to predict test data. Or you were on the top of a competition in public leaderboard, only to fall hundreds of places in the final rankings? Well – this is the kernel for you!.\n",
    "\n",
    "# Table of Contents\n",
    "1. What is Regularization?\n",
    "2. How does Regularization help in reducing Overfitting?\n",
    "3. Different Regularization techniques in Deep Learning\n",
    "    - L2 and L1 regularization\n",
    "    - Dropout\n",
    "    - Data augmentation\n",
    "    - Early stopping\n",
    "\n"
   ]
  },
  {
   "cell_type": "markdown",
   "metadata": {
    "_uuid": "741a45b3d0e609934a5091e51dcdf0462ac79323"
   },
   "source": [
    "# What is Regularization?\n",
    "Before we deep dive into the topic, take a look at this image:\n",
    "![](https://i.ibb.co/g35FMM5/over.png)\n",
    "Have you seen this image before? As we move towards the right in this image, our model tries to learn too well the details and the noise from the training data, which ultimately results in poor performance on the unseen data.\n",
    "\n",
    "In other words, while going towards the right, the complexity of the model increases such that the training error reduces but the testing error doesn’t. This is shown in the image below.\n",
    "![](https://i.ibb.co/0cygV4y/Screen-Shot-2018-04-04-at-2-43-37-PM-768x592.png)\n",
    "\n",
    "If you’ve built a neural network before, you know how complex they are. This makes them more prone to overfitting.\n",
    "\n",
    "**Regularization** is a technique which makes slight modifications to the learning algorithm such that the model generalizes better. This in turn improves the model’s performance on the unseen data as well.\n",
    "\n",
    "# How does Regularization help reduce Overfitting?\n",
    "\n",
    "Let’s consider a neural network which is overfitting on the training data.\n",
    "![](https://i.ibb.co/gmRzQtr/over-fitting.png)\n",
    "If you have studied the concept of regularization in machine learning, you will have a fair idea that **regularization penalizes the coefficients. In deep learning, it actually penalizes the weight matrices of the nodes.**\n",
    "\n",
    "Assume that our regularization coefficient is so high that some of the weight matrices are nearly equal to zero.\n",
    "This will result in a much simpler linear network and slight underfitting of the training data.\n",
    "\n",
    "Such a large value of the regularization coefficient is not that useful. We need to optimize the value of regularization coefficient in order to obtain a well-fitted model as shown in the image below.\n",
    "![](https://i.ibb.co/CKBYWFK/under.png)"
   ]
  },
  {
   "cell_type": "code",
   "execution_count": 1,
   "metadata": {
    "_cell_guid": "b1076dfc-b9ad-4769-8c92-a6c4dae69d19",
    "_uuid": "8f2839f25d086af736a60e9eeb907d3b93b6e0e5",
    "execution": {
     "iopub.execute_input": "2022-09-18T05:57:32.341221Z",
     "iopub.status.busy": "2022-09-18T05:57:32.340702Z",
     "iopub.status.idle": "2022-09-18T05:57:36.034818Z",
     "shell.execute_reply": "2022-09-18T05:57:36.033226Z",
     "shell.execute_reply.started": "2022-09-18T05:57:32.341166Z"
    }
   },
   "outputs": [
    {
     "name": "stderr",
     "output_type": "stream",
     "text": [
      "Using TensorFlow backend.\n"
     ]
    }
   ],
   "source": [
    "\n",
    "#data preprocessing\n",
    "import pandas as pd\n",
    "#math operations\n",
    "import numpy as np\n",
    "#machine learning\n",
    "\n",
    "from sklearn.preprocessing import StandardScaler\n",
    "#hyperparameter optimization\n",
    "from sklearn.model_selection import GridSearchCV\n",
    "#support vector machine model\n",
    "from keras import regularizers\n",
    "import seaborn as sns\n",
    "import matplotlib.pyplot as plt\n",
    "from matplotlib import rcParams\n",
    "plt.style.use('fivethirtyeight')\n",
    "from PIL import Image\n",
    "import numpy as np\n",
    "import os\n",
    "import cv2\n",
    "import keras\n",
    "from keras.utils import np_utils\n",
    "from keras.models import Sequential\n",
    "from keras.layers import Conv2D,MaxPooling2D,Dense,Flatten,Dropout\n",
    "            \n",
    "from random import shuffle\n",
    "from tqdm import tqdm  \n",
    "import scipy\n",
    "import skimage\n",
    "from skimage.transform import resize\n",
    "import random"
   ]
  },
  {
   "cell_type": "code",
   "execution_count": 2,
   "metadata": {
    "_cell_guid": "79c7e3d0-c299-4dcb-8224-4455121ee9b0",
    "_uuid": "d629ff2d2480ee46fbb7e2d37f6b5fab8052498a",
    "execution": {
     "iopub.execute_input": "2022-09-18T05:57:36.039073Z",
     "iopub.status.busy": "2022-09-18T05:57:36.038821Z",
     "iopub.status.idle": "2022-09-18T05:58:52.513184Z",
     "shell.execute_reply": "2022-09-18T05:58:52.512639Z",
     "shell.execute_reply.started": "2022-09-18T05:57:36.039025Z"
    }
   },
   "outputs": [
    {
     "name": "stdout",
     "output_type": "stream",
     "text": [
      "\n",
      "\n"
     ]
    }
   ],
   "source": [
    "data=[]\n",
    "labels=[]\n",
    "Parasitized=os.listdir(\"cell_images/Parasitized/\")\n",
    "for a in Parasitized:\n",
    "    try:\n",
    "        image=cv2.imread(\"cell_images/Parasitized/\"+a)\n",
    "        image_from_array = Image.fromarray(image, 'RGB')\n",
    "        size_image = image_from_array.resize((50, 50))\n",
    "        data.append(np.array(size_image))\n",
    "        labels.append(0)\n",
    "    except AttributeError:\n",
    "        print(\"\")\n",
    "\n",
    "Uninfected=os.listdir(\"cell_images/Uninfected/\")\n",
    "for b in Uninfected:\n",
    "    try:\n",
    "        image=cv2.imread(\"cell_images/Uninfected/\"+b)\n",
    "        image_from_array = Image.fromarray(image, 'RGB')\n",
    "        size_image = image_from_array.resize((50, 50))\n",
    "        data.append(np.array(size_image))\n",
    "        labels.append(1)\n",
    "    except AttributeError:\n",
    "        print(\"\")"
   ]
  },
  {
   "cell_type": "code",
   "execution_count": 3,
   "metadata": {
    "_uuid": "abaa0ad9ce913573bd6f7de818627f7c7c22dcce",
    "execution": {
     "iopub.execute_input": "2022-09-18T05:58:52.514599Z",
     "iopub.status.busy": "2022-09-18T05:58:52.514206Z",
     "iopub.status.idle": "2022-09-18T05:58:52.607898Z",
     "shell.execute_reply": "2022-09-18T05:58:52.606907Z",
     "shell.execute_reply.started": "2022-09-18T05:58:52.514564Z"
    }
   },
   "outputs": [],
   "source": [
    "Cells=np.array(data)\n",
    "labels=np.array(labels)"
   ]
  },
  {
   "cell_type": "code",
   "execution_count": 4,
   "metadata": {
    "_uuid": "8b5b3facbd70306dd63467d51fecae05343c9c3c",
    "execution": {
     "iopub.execute_input": "2022-09-18T05:58:52.609825Z",
     "iopub.status.busy": "2022-09-18T05:58:52.609458Z",
     "iopub.status.idle": "2022-09-18T05:58:52.875448Z",
     "shell.execute_reply": "2022-09-18T05:58:52.874407Z",
     "shell.execute_reply.started": "2022-09-18T05:58:52.609755Z"
    }
   },
   "outputs": [],
   "source": [
    "np.save(\"Cells\",Cells)\n",
    "np.save(\"labels\",labels)"
   ]
  },
  {
   "cell_type": "code",
   "execution_count": 5,
   "metadata": {
    "_uuid": "d9f816fb0c6c73a3d7b232a86fa1dbdc89e46f45",
    "execution": {
     "iopub.execute_input": "2022-09-18T05:58:52.878867Z",
     "iopub.status.busy": "2022-09-18T05:58:52.878601Z",
     "iopub.status.idle": "2022-09-18T05:58:52.965988Z",
     "shell.execute_reply": "2022-09-18T05:58:52.964661Z",
     "shell.execute_reply.started": "2022-09-18T05:58:52.878818Z"
    }
   },
   "outputs": [],
   "source": [
    "Cells=np.load(\"Cells.npy\")\n",
    "labels=np.load(\"labels.npy\")"
   ]
  },
  {
   "cell_type": "code",
   "execution_count": 6,
   "metadata": {
    "_uuid": "090f595f39152e82cd4d3a42529da3c67e91c088",
    "execution": {
     "iopub.execute_input": "2022-09-18T05:58:52.969651Z",
     "iopub.status.busy": "2022-09-18T05:58:52.969241Z",
     "iopub.status.idle": "2022-09-18T05:58:53.066576Z",
     "shell.execute_reply": "2022-09-18T05:58:53.065360Z",
     "shell.execute_reply.started": "2022-09-18T05:58:52.969592Z"
    }
   },
   "outputs": [],
   "source": [
    "s=np.arange(Cells.shape[0])\n",
    "np.random.shuffle(s)\n",
    "Cells=Cells[s]\n",
    "labels=labels[s]"
   ]
  },
  {
   "cell_type": "code",
   "execution_count": 7,
   "metadata": {
    "_uuid": "025d220c323c84a0236ffe173c616aa53e37698a",
    "execution": {
     "iopub.execute_input": "2022-09-18T05:58:53.068382Z",
     "iopub.status.busy": "2022-09-18T05:58:53.068069Z",
     "iopub.status.idle": "2022-09-18T05:58:53.074346Z",
     "shell.execute_reply": "2022-09-18T05:58:53.072946Z",
     "shell.execute_reply.started": "2022-09-18T05:58:53.068330Z"
    }
   },
   "outputs": [],
   "source": [
    "num_classes=len(np.unique(labels))\n",
    "len_data=len(Cells)\n"
   ]
  },
  {
   "cell_type": "code",
   "execution_count": 8,
   "metadata": {
    "_uuid": "472c4dcee4e88a3cf598483c091f3ff7c64e432d",
    "execution": {
     "iopub.execute_input": "2022-09-18T05:58:53.076247Z",
     "iopub.status.busy": "2022-09-18T05:58:53.075931Z",
     "iopub.status.idle": "2022-09-18T05:58:53.537248Z",
     "shell.execute_reply": "2022-09-18T05:58:53.536111Z",
     "shell.execute_reply.started": "2022-09-18T05:58:53.076184Z"
    }
   },
   "outputs": [],
   "source": [
    "(x_train,x_test)=Cells[(int)(0.1*len_data):],Cells[:(int)(0.1*len_data)]\n",
    "x_train = x_train.astype('float32')/255 # As we are working on image data we are normalizing data by divinding 255.\n",
    "x_test = x_test.astype('float32')/255\n",
    "train_len=len(x_train)\n",
    "test_len=len(x_test)"
   ]
  },
  {
   "cell_type": "code",
   "execution_count": 9,
   "metadata": {
    "_uuid": "4f79c9f8cb7fa7c1ea2b60006c89580224b68e8d",
    "execution": {
     "iopub.execute_input": "2022-09-18T05:58:53.538696Z",
     "iopub.status.busy": "2022-09-18T05:58:53.538403Z",
     "iopub.status.idle": "2022-09-18T05:58:53.543449Z",
     "shell.execute_reply": "2022-09-18T05:58:53.542339Z",
     "shell.execute_reply.started": "2022-09-18T05:58:53.538649Z"
    }
   },
   "outputs": [],
   "source": [
    "(y_train,y_test)=labels[(int)(0.1*len_data):],labels[:(int)(0.1*len_data)]"
   ]
  },
  {
   "cell_type": "code",
   "execution_count": 10,
   "metadata": {
    "_uuid": "75cd91f23a6e0836ef9f91f5be415747457c3c87",
    "execution": {
     "iopub.execute_input": "2022-09-18T05:58:53.545490Z",
     "iopub.status.busy": "2022-09-18T05:58:53.545120Z",
     "iopub.status.idle": "2022-09-18T05:58:53.554854Z",
     "shell.execute_reply": "2022-09-18T05:58:53.553665Z",
     "shell.execute_reply.started": "2022-09-18T05:58:53.545410Z"
    }
   },
   "outputs": [],
   "source": [
    "#Doing One hot encoding as classifier has multiple classes\n",
    "y_train=keras.utils.to_categorical(y_train,num_classes)\n",
    "y_test=keras.utils.to_categorical(y_test,num_classes)"
   ]
  },
  {
   "cell_type": "markdown",
   "metadata": {
    "_uuid": "33f32ca85106632abc880c0936947755ba5a4988"
   },
   "source": [
    "# Different Regularization Techniques in Deep Learning\n",
    "\n",
    "Now that we have an understanding of how regularization helps in reducing overfitting, we’ll learn a few different techniques in order to apply regularization in deep learning.\n",
    "\n",
    "## L2 & L1 regularization\n",
    "\n",
    "L1 and L2 are the most common types of regularization. These update the general cost function by adding another term known as the regularization term.\n",
    "\n",
    "### Cost function = Loss (say, binary cross entropy) + Regularization term\n",
    "\n",
    "Due to the addition of this regularization term, the values of weight matrices decrease because it assumes that a neural network with smaller weight matrices leads to simpler models. Therefore, it will also reduce overfitting to quite an extent.\n",
    "\n",
    "However, this regularization term differs in L1 and L2.\n",
    "\n",
    "In L2, we have:\n",
    "![L2](https://i.ibb.co/b3Dp6mL/L2.png)\n",
    "\n",
    "Here, **lambda** is the regularization parameter. It is the hyperparameter whose value is optimized for better results. L2 regularization is also known as weight decay as it forces the weights to decay towards zero (but not exactly zero).\n",
    "\n",
    "In L1, we have:\n",
    "\n",
    "![L2](https://i.ibb.co/zZBJrgB/l1.png)\n",
    "\n",
    "In this, we penalize the absolute value of the weights. Unlike L2, the weights may be reduced to zero here. **Hence, it is very useful when we are trying to compress our model. Otherwise, we usually prefer L2 over it.**\n",
    "\n",
    "In keras, we can directly apply regularization to any layer using the regularizers.\n",
    "Below I have applied regularizer on dense layer having 500 neurons and relu activation function."
   ]
  },
  {
   "cell_type": "code",
   "execution_count": 11,
   "metadata": {
    "_uuid": "2af22f0084edcb1319bea37fa93b3b944696c31f",
    "execution": {
     "iopub.execute_input": "2022-09-18T05:58:53.556297Z",
     "iopub.status.busy": "2022-09-18T05:58:53.556017Z",
     "iopub.status.idle": "2022-09-18T05:58:53.654940Z",
     "shell.execute_reply": "2022-09-18T05:58:53.653776Z",
     "shell.execute_reply.started": "2022-09-18T05:58:53.556261Z"
    }
   },
   "outputs": [],
   "source": [
    "#creating sequential model\n",
    "model=Sequential()\n",
    "model.add(Conv2D(filters=16,kernel_size=2,padding=\"same\",activation=\"relu\",input_shape=(50,50,3)))\n",
    "model.add(MaxPooling2D(pool_size=2))\n",
    "model.add(Conv2D(filters=32,kernel_size=2,padding=\"same\",activation=\"relu\"))\n",
    "model.add(MaxPooling2D(pool_size=2))\n",
    "model.add(Conv2D(filters=64,kernel_size=2,padding=\"same\",activation=\"relu\"))\n",
    "model.add(MaxPooling2D(pool_size=2))\n",
    "model.add(Flatten())\n",
    "#l2 regularizer\n",
    "model.add(Dense(500,kernel_regularizer=regularizers.l2(0.01),activation=\"relu\"))\n",
    "model.add(Dense(2,activation=\"softmax\"))#2 represent output layer neurons \n"
   ]
  },
  {
   "cell_type": "markdown",
   "metadata": {
    "_uuid": "b472fbf7f50daf9fb2087bf75398b9d88dc525d5"
   },
   "source": [
    "**Note: Here the value 0.01 is the value of regularization parameter, i.e., lambda, which we need to optimize further. We can optimize it using the grid-search method.**\n",
    "\n",
    "Similarly, we can also apply L1 regularization."
   ]
  },
  {
   "cell_type": "markdown",
   "metadata": {
    "_uuid": "df2bfe53980b2fdc18e60ee3665e68589abae5d5"
   },
   "source": [
    "# Dropout\n",
    "This is the one of the most interesting types of regularization techniques. It also produces very good results and is consequently the most frequently used regularization technique in the field of deep learning.\n",
    "\n",
    "To understand dropout, let’s say our neural network structure is akin to the one shown below:\n",
    "![](https://i.ibb.co/G3PgsRs/d1.png)\n",
    "\n",
    "So what does dropout do? At every iteration, it randomly selects some nodes and removes them along with all of their incoming and outgoing connections as shown below.\n",
    "\n",
    "![](https://i.ibb.co/4pdnr5r/d2.png)\n",
    "\n",
    "So each iteration has a different set of nodes and this results in a different set of outputs. **It can also be thought of as an ensemble technique in machine learning.**\n",
    "\n",
    "Ensemble models usually perform better than a single model as they capture more randomness. Similarly, dropout also performs better than a normal neural network model.\n",
    "\n",
    "This probability of choosing how many nodes should be dropped is the hyperparameter of the dropout function. As seen in the image above, dropout can be applied to both the hidden layers as well as the input layers.\n",
    "\n",
    "![](https://i.ibb.co/KydYCbp/d3.gif)\n",
    "\n",
    "Due to these reasons, dropout is usually preferred when we have a large neural network structure in order to introduce more **randomness.**\n",
    "\n",
    "In keras, we can implement dropout using the **keras  layer**. Below is the Dropout Implementation.\n",
    "I have introduced dropout of 0.2  as the probability of dropping in my neural network architecture after last hidden layer having 64 kernels and after first dense layer having 500 neurons.\n",
    "\n",
    "\n",
    "\n"
   ]
  },
  {
   "cell_type": "code",
   "execution_count": 12,
   "metadata": {
    "_uuid": "f629ea90f54cec5a8a3e083c8551a6da471fd5f4",
    "execution": {
     "iopub.execute_input": "2022-09-18T05:58:53.656506Z",
     "iopub.status.busy": "2022-09-18T05:58:53.656226Z",
     "iopub.status.idle": "2022-09-18T05:58:53.778125Z",
     "shell.execute_reply": "2022-09-18T05:58:53.776692Z",
     "shell.execute_reply.started": "2022-09-18T05:58:53.656462Z"
    }
   },
   "outputs": [],
   "source": [
    "#creating sequential model\n",
    "model=Sequential()\n",
    "model.add(Conv2D(filters=16,kernel_size=2,padding=\"same\",activation=\"relu\",input_shape=(50,50,3)))\n",
    "model.add(MaxPooling2D(pool_size=2))\n",
    "model.add(Conv2D(filters=32,kernel_size=2,padding=\"same\",activation=\"relu\"))\n",
    "model.add(MaxPooling2D(pool_size=2))\n",
    "model.add(Conv2D(filters=64,kernel_size=2,padding=\"same\",activation=\"relu\"))\n",
    "model.add(MaxPooling2D(pool_size=2))\n",
    "# 1st dropout\n",
    "model.add(Dropout(0.2))\n",
    "model.add(Flatten())\n",
    "model.add(Dense(500,activation=\"relu\"))\n",
    "# 2nd dropout\n",
    "model.add(Dropout(0.2))\n",
    "model.add(Dense(2,activation=\"softmax\"))#2 represent output layer neurons \n"
   ]
  },
  {
   "cell_type": "markdown",
   "metadata": {
    "_uuid": "72e09ba51bf4349f4ede829195e89a7465b27d8d"
   },
   "source": [
    "# Data Augmentation\n",
    "The simplest way to reduce overfitting is to increase the size of the training data. In machine learning, we were not able to increase the size of training data as the labeled data was too costly.\n",
    "\n",
    "But, now let’s consider we are dealing with images. In this case, there are a few ways of increasing the size of the training data – rotating the image, flipping, scaling, shifting, etc. In the below image, some transformation has been done on the handwritten digits dataset.\n",
    "![](https://i.ibb.co/rd4FpW6/aug.png)\n",
    "\n",
    "This technique is known as **data augmentation**. This usually provides a big leap in improving the accuracy of the model. It can be considered as a mandatory trick in order to improve our predictions.\n",
    "\n",
    "In keras, we can perform all of these transformations using **ImageDataGenerator**. It has a big list of arguments which you you can use to pre-process your training data.\n",
    "\n",
    "Below is the implementation code."
   ]
  },
  {
   "cell_type": "code",
   "execution_count": 13,
   "metadata": {
    "_uuid": "4fc0e5c9895302065d38189c892802f912de1333",
    "execution": {
     "iopub.execute_input": "2022-09-18T05:58:53.780144Z",
     "iopub.status.busy": "2022-09-18T05:58:53.779807Z",
     "iopub.status.idle": "2022-09-18T05:58:54.196559Z",
     "shell.execute_reply": "2022-09-18T05:58:54.195457Z",
     "shell.execute_reply.started": "2022-09-18T05:58:53.780094Z"
    }
   },
   "outputs": [],
   "source": [
    "from keras.preprocessing.image import ImageDataGenerator\n",
    "\n",
    "datagen = ImageDataGenerator(\n",
    "        featurewise_center=False,  # set input mean to 0 over the dataset\n",
    "        samplewise_center=False,  # set each sample mean to 0\n",
    "        featurewise_std_normalization=False,  # divide inputs by std of the dataset\n",
    "        samplewise_std_normalization=False,  # divide each input by its std\n",
    "        zca_whitening=False,  # apply ZCA whitening\n",
    "        rotation_range=10,  # randomly rotate images in the range (degrees, 0 to 180)\n",
    "        zoom_range = 0.1, # Randomly zoom image \n",
    "        width_shift_range=0.1,  # randomly shift images horizontally (fraction of total width)\n",
    "        height_shift_range=0.1,  # randomly shift images vertically (fraction of total height)\n",
    "        horizontal_flip=False,  # randomly flip images\n",
    "        vertical_flip=False)  # randomly flip images\n",
    "\n",
    "datagen.fit(x_train)"
   ]
  },
  {
   "cell_type": "markdown",
   "metadata": {
    "_uuid": "c8e56fa732b101f1b08cafe112f67f3d4e7beaf7"
   },
   "source": [
    "# Early stopping\n",
    "Early stopping is a kind of cross-validation strategy where we keep one part of the training set as the validation set. When we see that the performance on the validation set is getting worse, we immediately stop the training on the model. This is known as **early stopping.**\n",
    "\n",
    "![](https://i.ibb.co/CmJpR3R/early.png)\n",
    "In the above image, we will stop training at the dotted line since after that our model will start overfitting on the training data.\n",
    "\n",
    "In keras, we can apply early stopping using the **callbacks** function. Below is the implementation code for it.I have applied early stopping so that it will stop immendiately if validation error will not decreased after 3 epochs."
   ]
  },
  {
   "cell_type": "code",
   "execution_count": 14,
   "metadata": {
    "_uuid": "778bb1ffe1d519cc594855c02948629644231f4d",
    "execution": {
     "iopub.execute_input": "2022-09-18T05:58:54.198075Z",
     "iopub.status.busy": "2022-09-18T05:58:54.197828Z",
     "iopub.status.idle": "2022-09-18T05:58:54.202875Z",
     "shell.execute_reply": "2022-09-18T05:58:54.201867Z",
     "shell.execute_reply.started": "2022-09-18T05:58:54.198038Z"
    }
   },
   "outputs": [],
   "source": [
    "from keras.callbacks import EarlyStopping\n",
    "earlystop= EarlyStopping(monitor='val_acc', patience=3)\n",
    "epochs = 500  \n",
    "batch_size = 64"
   ]
  },
  {
   "cell_type": "markdown",
   "metadata": {
    "_uuid": "f4df5c03bc61d5b9473fb852044de7dff44e3b5a"
   },
   "source": [
    "Here, **monitor** denotes the quantity that needs to be monitored and **‘val_err’** denotes the validation error.\n",
    "\n",
    "**Patience** denotes the number of epochs with no further improvement after which the training will be stopped. For better understanding, let’s take a look at the above image again. After the dotted line, each epoch will result in a higher value of validation error. Therefore, 5 epochs after the dotted line (since our patience is equal to 3), our model will stop because no further improvement is seen.\n",
    "\n",
    "**Note: It may be possible that after 3 epochs (this is the value defined for patience in general), the model starts improving again and the validation error starts decreasing as well. Therefore, we need to take extra care while tuning this hyperparameter.**"
   ]
  },
  {
   "cell_type": "markdown",
   "metadata": {
    "_uuid": "8289e287f425c17b47569bec167af89ff6f81749"
   },
   "source": [
    "# Implementation on Malaria Cell Identification with keras\n",
    "By this point, you should have a theoretical understanding of the different techniques we have gone through. We will now apply this knowledge to our deep learning practice problem – Identify Malaria cell. \n",
    "In this problem I will use all the regularization techniques which I have discussed earlier i.e., \n",
    "1. L1,L2 Regularizer\n",
    "2. Dropout\n",
    "3. Data Augmentation\n",
    "4. Early Stopping\n",
    "Now Let's start firing bullets !!!!!!!!!!!!!!!!!!!!!!!!!!!!!!!"
   ]
  },
  {
   "cell_type": "code",
   "execution_count": 15,
   "metadata": {
    "_uuid": "ffda6b96e883e7d4281e2af6b43b6dbdfdc473ea",
    "execution": {
     "iopub.execute_input": "2022-09-18T05:58:54.204335Z",
     "iopub.status.busy": "2022-09-18T05:58:54.204052Z",
     "iopub.status.idle": "2022-09-18T05:58:54.322490Z",
     "shell.execute_reply": "2022-09-18T05:58:54.321682Z",
     "shell.execute_reply.started": "2022-09-18T05:58:54.204279Z"
    }
   },
   "outputs": [
    {
     "name": "stdout",
     "output_type": "stream",
     "text": [
      "_________________________________________________________________\n",
      "Layer (type)                 Output Shape              Param #   \n",
      "=================================================================\n",
      "conv2d_7 (Conv2D)            (None, 50, 50, 16)        208       \n",
      "_________________________________________________________________\n",
      "max_pooling2d_7 (MaxPooling2 (None, 25, 25, 16)        0         \n",
      "_________________________________________________________________\n",
      "conv2d_8 (Conv2D)            (None, 25, 25, 32)        2080      \n",
      "_________________________________________________________________\n",
      "max_pooling2d_8 (MaxPooling2 (None, 12, 12, 32)        0         \n",
      "_________________________________________________________________\n",
      "conv2d_9 (Conv2D)            (None, 12, 12, 64)        8256      \n",
      "_________________________________________________________________\n",
      "max_pooling2d_9 (MaxPooling2 (None, 6, 6, 64)          0         \n",
      "_________________________________________________________________\n",
      "dropout_3 (Dropout)          (None, 6, 6, 64)          0         \n",
      "_________________________________________________________________\n",
      "flatten_3 (Flatten)          (None, 2304)              0         \n",
      "_________________________________________________________________\n",
      "dense_5 (Dense)              (None, 500)               1152500   \n",
      "_________________________________________________________________\n",
      "dropout_4 (Dropout)          (None, 500)               0         \n",
      "_________________________________________________________________\n",
      "dense_6 (Dense)              (None, 2)                 1002      \n",
      "=================================================================\n",
      "Total params: 1,164,046\n",
      "Trainable params: 1,164,046\n",
      "Non-trainable params: 0\n",
      "_________________________________________________________________\n"
     ]
    }
   ],
   "source": [
    "#creating sequential model\n",
    "model=Sequential()\n",
    "model.add(Conv2D(filters=16,kernel_size=2,padding=\"same\",activation=\"relu\",input_shape=(50,50,3)))\n",
    "model.add(MaxPooling2D(pool_size=2))\n",
    "model.add(Conv2D(filters=32,kernel_size=2,padding=\"same\",activation=\"relu\"))\n",
    "model.add(MaxPooling2D(pool_size=2))\n",
    "model.add(Conv2D(filters=64,kernel_size=2,padding=\"same\",activation=\"relu\"))\n",
    "model.add(MaxPooling2D(pool_size=2))\n",
    "# 1st dropout\n",
    "model.add(Dropout(0.2))\n",
    "model.add(Flatten())\n",
    "#l2 regularizer\n",
    "model.add(Dense(500,kernel_regularizer=regularizers.l2(0.01),activation=\"relu\"))\n",
    "# 2nd dropout\n",
    "model.add(Dropout(0.2))\n",
    "model.add(Dense(2,activation=\"softmax\"))#2 represent output layer neurons \n",
    "model.summary()\n"
   ]
  },
  {
   "cell_type": "code",
   "execution_count": 16,
   "metadata": {
    "_uuid": "69dae93c995c17a2c1e15a23f62f2e56ed5cffe1",
    "execution": {
     "iopub.execute_input": "2022-09-18T05:58:54.324293Z",
     "iopub.status.busy": "2022-09-18T05:58:54.323963Z",
     "iopub.status.idle": "2022-09-18T05:58:54.372766Z",
     "shell.execute_reply": "2022-09-18T05:58:54.371801Z",
     "shell.execute_reply.started": "2022-09-18T05:58:54.324225Z"
    }
   },
   "outputs": [],
   "source": [
    "# Compiling model\n",
    "# compile the model with loss as categorical_crossentropy and using adam optimizer you can test result by trying RMSProp as well as Momentum\n",
    "model.compile(loss='categorical_crossentropy', optimizer='adam', metrics=['acc'])"
   ]
  },
  {
   "cell_type": "code",
   "execution_count": 17,
   "metadata": {
    "execution": {
     "iopub.execute_input": "2022-09-18T05:58:54.374359Z",
     "iopub.status.busy": "2022-09-18T05:58:54.373975Z",
     "iopub.status.idle": "2022-09-18T05:58:54.378827Z",
     "shell.execute_reply": "2022-09-18T05:58:54.377541Z",
     "shell.execute_reply.started": "2022-09-18T05:58:54.374320Z"
    }
   },
   "outputs": [],
   "source": [
    "from keras.callbacks import EarlyStopping, ModelCheckpoint\n",
    "callbacks = [EarlyStopping(monitor='val_loss', patience=2),\n",
    "             ModelCheckpoint('.mdl_wts.hdf5', monitor='val_loss', save_best_only=True)]"
   ]
  },
  {
   "cell_type": "code",
   "execution_count": 18,
   "metadata": {
    "_uuid": "1c06b66a9ba37f8fd7609ea3d3e0695c2f3af004",
    "execution": {
     "iopub.execute_input": "2022-09-18T05:58:54.380796Z",
     "iopub.status.busy": "2022-09-18T05:58:54.380546Z",
     "iopub.status.idle": "2022-09-18T09:13:52.201638Z",
     "shell.execute_reply": "2022-09-18T09:13:52.200930Z",
     "shell.execute_reply.started": "2022-09-18T05:58:54.380750Z"
    }
   },
   "outputs": [
    {
     "name": "stdout",
     "output_type": "stream",
     "text": [
      "Epoch 1/500\n",
      "387/387 [==============================] - 24s 62ms/step - loss: 0.8353 - acc: 0.7772 - val_loss: 0.3300 - val_acc: 0.9038\n",
      "Epoch 2/500\n",
      "387/387 [==============================] - 23s 61ms/step - loss: 0.3147 - acc: 0.9106 - val_loss: 0.3478 - val_acc: 0.8966\n",
      "Epoch 3/500\n",
      "387/387 [==============================] - 24s 61ms/step - loss: 0.2730 - acc: 0.9262 - val_loss: 0.3969 - val_acc: 0.8396\n",
      "Epoch 4/500\n",
      "387/387 [==============================] - 24s 61ms/step - loss: 0.2558 - acc: 0.9348 - val_loss: 0.2691 - val_acc: 0.9339\n",
      "Epoch 5/500\n",
      "387/387 [==============================] - 23s 60ms/step - loss: 0.2374 - acc: 0.9393 - val_loss: 0.2802 - val_acc: 0.9296\n",
      "Epoch 6/500\n",
      "387/387 [==============================] - 24s 61ms/step - loss: 0.2219 - acc: 0.9427 - val_loss: 0.2131 - val_acc: 0.9546\n",
      "Epoch 7/500\n",
      "387/387 [==============================] - 24s 61ms/step - loss: 0.2194 - acc: 0.9448 - val_loss: 0.1940 - val_acc: 0.9514\n",
      "Epoch 8/500\n",
      "387/387 [==============================] - 24s 61ms/step - loss: 0.2167 - acc: 0.9447 - val_loss: 0.2017 - val_acc: 0.9554\n",
      "Epoch 9/500\n",
      "387/387 [==============================] - 23s 60ms/step - loss: 0.2130 - acc: 0.9449 - val_loss: 0.1815 - val_acc: 0.9561\n",
      "Epoch 10/500\n",
      "387/387 [==============================] - 23s 61ms/step - loss: 0.2081 - acc: 0.9462 - val_loss: 0.1980 - val_acc: 0.9517\n",
      "Epoch 11/500\n",
      "387/387 [==============================] - 23s 60ms/step - loss: 0.2023 - acc: 0.9486 - val_loss: 0.2031 - val_acc: 0.9514\n",
      "Epoch 12/500\n",
      "387/387 [==============================] - 24s 61ms/step - loss: 0.2009 - acc: 0.9485 - val_loss: 0.1962 - val_acc: 0.9550\n",
      "Epoch 13/500\n",
      "387/387 [==============================] - 23s 60ms/step - loss: 0.1984 - acc: 0.9489 - val_loss: 0.1798 - val_acc: 0.9557\n",
      "Epoch 14/500\n",
      "387/387 [==============================] - 24s 61ms/step - loss: 0.1977 - acc: 0.9507 - val_loss: 0.1913 - val_acc: 0.9535\n",
      "Epoch 15/500\n",
      "387/387 [==============================] - 23s 60ms/step - loss: 0.1903 - acc: 0.9515 - val_loss: 0.1823 - val_acc: 0.9539\n",
      "Epoch 16/500\n",
      "387/387 [==============================] - 23s 61ms/step - loss: 0.1932 - acc: 0.9509 - val_loss: 0.1761 - val_acc: 0.9554\n",
      "Epoch 17/500\n",
      "387/387 [==============================] - 24s 61ms/step - loss: 0.1926 - acc: 0.9501 - val_loss: 0.1847 - val_acc: 0.9557\n",
      "Epoch 18/500\n",
      "387/387 [==============================] - 24s 61ms/step - loss: 0.1853 - acc: 0.9519 - val_loss: 0.1809 - val_acc: 0.9532\n",
      "Epoch 19/500\n",
      "387/387 [==============================] - 24s 61ms/step - loss: 0.1876 - acc: 0.9517 - val_loss: 0.1662 - val_acc: 0.9557\n",
      "Epoch 20/500\n",
      "387/387 [==============================] - 24s 61ms/step - loss: 0.1840 - acc: 0.9523 - val_loss: 0.1716 - val_acc: 0.9550\n",
      "Epoch 21/500\n",
      "387/387 [==============================] - 23s 60ms/step - loss: 0.1879 - acc: 0.9514 - val_loss: 0.1792 - val_acc: 0.9528\n",
      "Epoch 22/500\n",
      "387/387 [==============================] - 23s 61ms/step - loss: 0.1804 - acc: 0.9521 - val_loss: 0.1657 - val_acc: 0.9561\n",
      "Epoch 23/500\n",
      "387/387 [==============================] - 24s 61ms/step - loss: 0.1780 - acc: 0.9528 - val_loss: 0.1672 - val_acc: 0.9572\n",
      "Epoch 24/500\n",
      "387/387 [==============================] - 23s 61ms/step - loss: 0.1789 - acc: 0.9523 - val_loss: 0.1691 - val_acc: 0.9564\n",
      "Epoch 25/500\n",
      "387/387 [==============================] - 23s 60ms/step - loss: 0.1778 - acc: 0.9534 - val_loss: 0.1809 - val_acc: 0.9557\n",
      "Epoch 26/500\n",
      "387/387 [==============================] - 23s 60ms/step - loss: 0.1770 - acc: 0.9528 - val_loss: 0.1657 - val_acc: 0.9543\n",
      "Epoch 27/500\n",
      "387/387 [==============================] - 24s 61ms/step - loss: 0.1763 - acc: 0.9532 - val_loss: 0.1624 - val_acc: 0.9572\n",
      "Epoch 28/500\n",
      "387/387 [==============================] - 23s 60ms/step - loss: 0.1753 - acc: 0.9534 - val_loss: 0.1776 - val_acc: 0.9506\n",
      "Epoch 29/500\n",
      "387/387 [==============================] - 23s 60ms/step - loss: 0.1757 - acc: 0.9526 - val_loss: 0.1596 - val_acc: 0.9586\n",
      "Epoch 30/500\n",
      "387/387 [==============================] - 23s 60ms/step - loss: 0.1717 - acc: 0.9551 - val_loss: 0.1677 - val_acc: 0.9575\n",
      "Epoch 31/500\n",
      "387/387 [==============================] - 23s 60ms/step - loss: 0.1736 - acc: 0.9544 - val_loss: 0.2085 - val_acc: 0.9361\n",
      "Epoch 32/500\n",
      "387/387 [==============================] - 23s 60ms/step - loss: 0.1724 - acc: 0.9536 - val_loss: 0.1580 - val_acc: 0.9572\n",
      "Epoch 33/500\n",
      "387/387 [==============================] - 23s 60ms/step - loss: 0.1698 - acc: 0.9551 - val_loss: 0.1684 - val_acc: 0.9550\n",
      "Epoch 34/500\n",
      "387/387 [==============================] - 23s 60ms/step - loss: 0.1704 - acc: 0.9549 - val_loss: 0.1608 - val_acc: 0.9568\n",
      "Epoch 35/500\n",
      "387/387 [==============================] - 24s 61ms/step - loss: 0.1697 - acc: 0.9540 - val_loss: 0.1920 - val_acc: 0.9521\n",
      "Epoch 36/500\n",
      "387/387 [==============================] - 23s 61ms/step - loss: 0.1665 - acc: 0.9555 - val_loss: 0.1485 - val_acc: 0.9572\n",
      "Epoch 37/500\n",
      "387/387 [==============================] - 23s 60ms/step - loss: 0.1682 - acc: 0.9551 - val_loss: 0.1616 - val_acc: 0.9568\n",
      "Epoch 38/500\n",
      "387/387 [==============================] - 24s 61ms/step - loss: 0.1694 - acc: 0.9546 - val_loss: 0.1628 - val_acc: 0.9543\n",
      "Epoch 39/500\n",
      "387/387 [==============================] - 23s 61ms/step - loss: 0.1669 - acc: 0.9544 - val_loss: 0.1591 - val_acc: 0.9568\n",
      "Epoch 40/500\n",
      "387/387 [==============================] - 23s 60ms/step - loss: 0.1655 - acc: 0.9550 - val_loss: 0.1567 - val_acc: 0.9568\n",
      "Epoch 41/500\n",
      "387/387 [==============================] - 23s 60ms/step - loss: 0.1637 - acc: 0.9571 - val_loss: 0.1587 - val_acc: 0.9539\n",
      "Epoch 42/500\n",
      "387/387 [==============================] - 23s 61ms/step - loss: 0.1647 - acc: 0.9556 - val_loss: 0.1697 - val_acc: 0.9532\n",
      "Epoch 43/500\n",
      "387/387 [==============================] - 23s 61ms/step - loss: 0.1622 - acc: 0.9561 - val_loss: 0.1484 - val_acc: 0.9604\n",
      "Epoch 44/500\n",
      "387/387 [==============================] - 24s 61ms/step - loss: 0.1637 - acc: 0.9562 - val_loss: 0.1563 - val_acc: 0.9579\n",
      "Epoch 45/500\n",
      "387/387 [==============================] - 23s 60ms/step - loss: 0.1604 - acc: 0.9571 - val_loss: 0.1517 - val_acc: 0.9601\n",
      "Epoch 46/500\n",
      "387/387 [==============================] - 23s 60ms/step - loss: 0.1601 - acc: 0.9566 - val_loss: 0.1581 - val_acc: 0.9575\n",
      "Epoch 47/500\n",
      "387/387 [==============================] - 24s 61ms/step - loss: 0.1663 - acc: 0.9545 - val_loss: 0.1517 - val_acc: 0.9597\n",
      "Epoch 48/500\n",
      "387/387 [==============================] - 23s 61ms/step - loss: 0.1620 - acc: 0.9565 - val_loss: 0.1608 - val_acc: 0.9564\n",
      "Epoch 49/500\n",
      "387/387 [==============================] - 24s 61ms/step - loss: 0.1627 - acc: 0.9560 - val_loss: 0.1538 - val_acc: 0.9557\n",
      "Epoch 50/500\n",
      "387/387 [==============================] - 23s 60ms/step - loss: 0.1623 - acc: 0.9569 - val_loss: 0.1525 - val_acc: 0.9583\n",
      "Epoch 51/500\n",
      "387/387 [==============================] - 23s 60ms/step - loss: 0.1617 - acc: 0.9566 - val_loss: 0.1510 - val_acc: 0.9590\n",
      "Epoch 52/500\n",
      "387/387 [==============================] - 24s 61ms/step - loss: 0.1609 - acc: 0.9573 - val_loss: 0.1561 - val_acc: 0.9561\n",
      "Epoch 53/500\n",
      "387/387 [==============================] - 23s 61ms/step - loss: 0.1559 - acc: 0.9588 - val_loss: 0.1548 - val_acc: 0.9568\n",
      "Epoch 54/500\n",
      "387/387 [==============================] - 23s 60ms/step - loss: 0.1619 - acc: 0.9559 - val_loss: 0.1627 - val_acc: 0.9510\n",
      "Epoch 55/500\n",
      "387/387 [==============================] - 23s 61ms/step - loss: 0.1632 - acc: 0.9552 - val_loss: 0.1558 - val_acc: 0.9543\n",
      "Epoch 56/500\n",
      "387/387 [==============================] - 23s 61ms/step - loss: 0.1608 - acc: 0.9559 - val_loss: 0.1426 - val_acc: 0.9604\n",
      "Epoch 57/500\n",
      "387/387 [==============================] - 23s 60ms/step - loss: 0.1605 - acc: 0.9561 - val_loss: 0.1447 - val_acc: 0.9604\n",
      "Epoch 58/500\n",
      "387/387 [==============================] - 23s 60ms/step - loss: 0.1586 - acc: 0.9573 - val_loss: 0.1485 - val_acc: 0.9590\n",
      "Epoch 59/500\n",
      "387/387 [==============================] - 24s 61ms/step - loss: 0.1578 - acc: 0.9572 - val_loss: 0.1650 - val_acc: 0.9546\n",
      "Epoch 60/500\n",
      "387/387 [==============================] - 24s 61ms/step - loss: 0.1555 - acc: 0.9576 - val_loss: 0.1452 - val_acc: 0.9604\n",
      "Epoch 61/500\n",
      "387/387 [==============================] - 24s 61ms/step - loss: 0.1590 - acc: 0.9569 - val_loss: 0.1490 - val_acc: 0.9564\n",
      "Epoch 62/500\n",
      "387/387 [==============================] - 23s 60ms/step - loss: 0.1552 - acc: 0.9579 - val_loss: 0.1428 - val_acc: 0.9593\n",
      "Epoch 63/500\n",
      "387/387 [==============================] - 23s 60ms/step - loss: 0.1565 - acc: 0.9562 - val_loss: 0.1481 - val_acc: 0.9601\n",
      "Epoch 64/500\n",
      "387/387 [==============================] - 23s 60ms/step - loss: 0.1576 - acc: 0.9580 - val_loss: 0.1488 - val_acc: 0.9586\n",
      "Epoch 65/500\n",
      "387/387 [==============================] - 24s 61ms/step - loss: 0.1556 - acc: 0.9571 - val_loss: 0.1505 - val_acc: 0.9586\n",
      "Epoch 66/500\n",
      "387/387 [==============================] - 23s 60ms/step - loss: 0.1592 - acc: 0.9573 - val_loss: 0.1520 - val_acc: 0.9550\n",
      "Epoch 67/500\n",
      "387/387 [==============================] - 23s 60ms/step - loss: 0.1598 - acc: 0.9570 - val_loss: 0.1438 - val_acc: 0.9593\n",
      "Epoch 68/500\n",
      "387/387 [==============================] - 23s 60ms/step - loss: 0.1520 - acc: 0.9582 - val_loss: 0.1643 - val_acc: 0.9564\n",
      "Epoch 69/500\n",
      "387/387 [==============================] - 24s 61ms/step - loss: 0.1604 - acc: 0.9565 - val_loss: 0.1513 - val_acc: 0.9583\n",
      "Epoch 70/500\n",
      "387/387 [==============================] - 23s 60ms/step - loss: 0.1558 - acc: 0.9575 - val_loss: 0.1468 - val_acc: 0.9597\n",
      "Epoch 71/500\n",
      "387/387 [==============================] - 23s 61ms/step - loss: 0.1577 - acc: 0.9581 - val_loss: 0.1414 - val_acc: 0.9633\n",
      "Epoch 72/500\n",
      "387/387 [==============================] - 24s 61ms/step - loss: 0.1574 - acc: 0.9560 - val_loss: 0.1440 - val_acc: 0.9608\n",
      "Epoch 73/500\n",
      "387/387 [==============================] - 24s 61ms/step - loss: 0.1504 - acc: 0.9603 - val_loss: 0.1472 - val_acc: 0.9601\n",
      "Epoch 74/500\n",
      "387/387 [==============================] - 23s 60ms/step - loss: 0.1549 - acc: 0.9578 - val_loss: 0.1450 - val_acc: 0.9608\n",
      "Epoch 75/500\n",
      "387/387 [==============================] - 23s 60ms/step - loss: 0.1543 - acc: 0.9596 - val_loss: 0.1451 - val_acc: 0.9623\n",
      "Epoch 76/500\n",
      "387/387 [==============================] - 23s 61ms/step - loss: 0.1528 - acc: 0.9588 - val_loss: 0.1502 - val_acc: 0.9619\n",
      "Epoch 77/500\n",
      "387/387 [==============================] - 24s 61ms/step - loss: 0.1563 - acc: 0.9577 - val_loss: 0.1386 - val_acc: 0.9615\n",
      "Epoch 78/500\n",
      "387/387 [==============================] - 23s 60ms/step - loss: 0.1558 - acc: 0.9584 - val_loss: 0.1457 - val_acc: 0.9612\n",
      "Epoch 79/500\n",
      "387/387 [==============================] - 24s 61ms/step - loss: 0.1492 - acc: 0.9601 - val_loss: 0.1454 - val_acc: 0.9608\n",
      "Epoch 80/500\n",
      "387/387 [==============================] - 24s 61ms/step - loss: 0.1560 - acc: 0.9578 - val_loss: 0.1398 - val_acc: 0.9623\n",
      "Epoch 81/500\n",
      "387/387 [==============================] - 23s 60ms/step - loss: 0.1524 - acc: 0.9590 - val_loss: 0.1448 - val_acc: 0.9597\n",
      "Epoch 82/500\n",
      "387/387 [==============================] - 23s 60ms/step - loss: 0.1482 - acc: 0.9605 - val_loss: 0.1578 - val_acc: 0.9532\n",
      "Epoch 83/500\n",
      "387/387 [==============================] - 23s 60ms/step - loss: 0.1537 - acc: 0.9582 - val_loss: 0.1439 - val_acc: 0.9633\n",
      "Epoch 84/500\n",
      "387/387 [==============================] - 23s 60ms/step - loss: 0.1511 - acc: 0.9598 - val_loss: 0.1518 - val_acc: 0.9554\n",
      "Epoch 85/500\n",
      "387/387 [==============================] - 23s 60ms/step - loss: 0.1516 - acc: 0.9598 - val_loss: 0.1642 - val_acc: 0.9539\n",
      "Epoch 86/500\n",
      "387/387 [==============================] - 23s 59ms/step - loss: 0.1506 - acc: 0.9592 - val_loss: 0.1461 - val_acc: 0.9572\n",
      "Epoch 87/500\n",
      "387/387 [==============================] - 23s 61ms/step - loss: 0.1505 - acc: 0.9580 - val_loss: 0.1459 - val_acc: 0.9604\n",
      "Epoch 88/500\n",
      "387/387 [==============================] - 23s 61ms/step - loss: 0.1567 - acc: 0.9562 - val_loss: 0.1456 - val_acc: 0.9575\n",
      "Epoch 89/500\n",
      "387/387 [==============================] - 23s 60ms/step - loss: 0.1491 - acc: 0.9595 - val_loss: 0.1451 - val_acc: 0.9597\n",
      "Epoch 90/500\n",
      "387/387 [==============================] - 23s 60ms/step - loss: 0.1513 - acc: 0.9579 - val_loss: 0.1454 - val_acc: 0.9586\n",
      "Epoch 91/500\n",
      "387/387 [==============================] - 23s 60ms/step - loss: 0.1468 - acc: 0.9607 - val_loss: 0.1424 - val_acc: 0.9593\n",
      "Epoch 92/500\n",
      "387/387 [==============================] - 23s 60ms/step - loss: 0.1530 - acc: 0.9581 - val_loss: 0.1390 - val_acc: 0.9604\n",
      "Epoch 93/500\n",
      "387/387 [==============================] - 24s 61ms/step - loss: 0.1487 - acc: 0.9595 - val_loss: 0.1415 - val_acc: 0.9608\n",
      "Epoch 94/500\n",
      "387/387 [==============================] - 23s 60ms/step - loss: 0.1504 - acc: 0.9588 - val_loss: 0.1437 - val_acc: 0.9608\n",
      "Epoch 95/500\n",
      "387/387 [==============================] - 23s 60ms/step - loss: 0.1558 - acc: 0.9574 - val_loss: 0.1408 - val_acc: 0.9601\n",
      "Epoch 96/500\n",
      "387/387 [==============================] - 24s 61ms/step - loss: 0.1484 - acc: 0.9602 - val_loss: 0.1495 - val_acc: 0.9604\n",
      "Epoch 97/500\n",
      "387/387 [==============================] - 24s 61ms/step - loss: 0.1500 - acc: 0.9590 - val_loss: 0.1348 - val_acc: 0.9615\n",
      "Epoch 98/500\n",
      "387/387 [==============================] - 23s 60ms/step - loss: 0.1523 - acc: 0.9576 - val_loss: 0.1597 - val_acc: 0.9539\n",
      "Epoch 99/500\n",
      "387/387 [==============================] - 24s 61ms/step - loss: 0.1454 - acc: 0.9623 - val_loss: 0.1671 - val_acc: 0.9503\n",
      "Epoch 100/500\n",
      "387/387 [==============================] - 24s 61ms/step - loss: 0.1505 - acc: 0.9590 - val_loss: 0.1364 - val_acc: 0.9633\n",
      "Epoch 101/500\n",
      "387/387 [==============================] - 24s 61ms/step - loss: 0.1474 - acc: 0.9600 - val_loss: 0.1459 - val_acc: 0.9590\n",
      "Epoch 102/500\n",
      "387/387 [==============================] - 23s 60ms/step - loss: 0.1491 - acc: 0.9598 - val_loss: 0.1364 - val_acc: 0.9626\n",
      "Epoch 103/500\n",
      "387/387 [==============================] - 23s 61ms/step - loss: 0.1476 - acc: 0.9591 - val_loss: 0.1530 - val_acc: 0.9546\n",
      "Epoch 104/500\n",
      "387/387 [==============================] - 23s 60ms/step - loss: 0.1511 - acc: 0.9591 - val_loss: 0.1355 - val_acc: 0.9615\n",
      "Epoch 105/500\n",
      "387/387 [==============================] - 24s 61ms/step - loss: 0.1499 - acc: 0.9588 - val_loss: 0.1418 - val_acc: 0.9597\n",
      "Epoch 106/500\n",
      "387/387 [==============================] - 23s 61ms/step - loss: 0.1496 - acc: 0.9602 - val_loss: 0.1435 - val_acc: 0.9608\n",
      "Epoch 107/500\n",
      "387/387 [==============================] - 23s 60ms/step - loss: 0.1452 - acc: 0.9609 - val_loss: 0.1436 - val_acc: 0.9597\n",
      "Epoch 108/500\n",
      "387/387 [==============================] - 24s 61ms/step - loss: 0.1446 - acc: 0.9595 - val_loss: 0.1371 - val_acc: 0.9619\n",
      "Epoch 109/500\n",
      "387/387 [==============================] - 23s 60ms/step - loss: 0.1470 - acc: 0.9596 - val_loss: 0.1420 - val_acc: 0.9615\n",
      "Epoch 110/500\n",
      "387/387 [==============================] - 23s 60ms/step - loss: 0.1421 - acc: 0.9618 - val_loss: 0.1409 - val_acc: 0.9601\n",
      "Epoch 111/500\n",
      "387/387 [==============================] - 23s 60ms/step - loss: 0.1479 - acc: 0.9591 - val_loss: 0.1421 - val_acc: 0.9597\n",
      "Epoch 112/500\n",
      "387/387 [==============================] - 23s 60ms/step - loss: 0.1511 - acc: 0.9587 - val_loss: 0.1475 - val_acc: 0.9568\n",
      "Epoch 113/500\n",
      "387/387 [==============================] - 23s 60ms/step - loss: 0.1440 - acc: 0.9602 - val_loss: 0.1546 - val_acc: 0.9561\n",
      "Epoch 114/500\n",
      "387/387 [==============================] - 23s 61ms/step - loss: 0.1455 - acc: 0.9598 - val_loss: 0.1375 - val_acc: 0.9612\n",
      "Epoch 115/500\n",
      "387/387 [==============================] - 23s 60ms/step - loss: 0.1470 - acc: 0.9601 - val_loss: 0.1502 - val_acc: 0.9612\n",
      "Epoch 116/500\n",
      "387/387 [==============================] - 24s 61ms/step - loss: 0.1472 - acc: 0.9598 - val_loss: 0.1392 - val_acc: 0.9597\n",
      "Epoch 117/500\n",
      "387/387 [==============================] - 23s 61ms/step - loss: 0.1512 - acc: 0.9602 - val_loss: 0.1407 - val_acc: 0.9615\n",
      "Epoch 118/500\n",
      "387/387 [==============================] - 23s 61ms/step - loss: 0.1475 - acc: 0.9601 - val_loss: 0.1385 - val_acc: 0.9623\n",
      "Epoch 119/500\n",
      "387/387 [==============================] - 23s 61ms/step - loss: 0.1416 - acc: 0.9614 - val_loss: 0.1396 - val_acc: 0.9623\n",
      "Epoch 120/500\n",
      "387/387 [==============================] - 24s 61ms/step - loss: 0.1476 - acc: 0.9601 - val_loss: 0.1379 - val_acc: 0.9630\n",
      "Epoch 121/500\n",
      "387/387 [==============================] - 24s 61ms/step - loss: 0.1453 - acc: 0.9602 - val_loss: 0.1334 - val_acc: 0.9641\n",
      "Epoch 122/500\n",
      "387/387 [==============================] - 24s 61ms/step - loss: 0.1409 - acc: 0.9620 - val_loss: 0.1411 - val_acc: 0.9615\n",
      "Epoch 123/500\n",
      "387/387 [==============================] - 23s 60ms/step - loss: 0.1456 - acc: 0.9613 - val_loss: 0.1440 - val_acc: 0.9579\n",
      "Epoch 124/500\n",
      "387/387 [==============================] - 24s 61ms/step - loss: 0.1473 - acc: 0.9599 - val_loss: 0.1478 - val_acc: 0.9612\n",
      "Epoch 125/500\n",
      "387/387 [==============================] - 23s 60ms/step - loss: 0.1451 - acc: 0.9604 - val_loss: 0.1389 - val_acc: 0.9612\n",
      "Epoch 126/500\n",
      "387/387 [==============================] - 23s 60ms/step - loss: 0.1452 - acc: 0.9600 - val_loss: 0.1478 - val_acc: 0.9608\n",
      "Epoch 127/500\n",
      "387/387 [==============================] - 23s 60ms/step - loss: 0.1452 - acc: 0.9608 - val_loss: 0.1419 - val_acc: 0.9593\n",
      "Epoch 128/500\n",
      "387/387 [==============================] - 24s 61ms/step - loss: 0.1472 - acc: 0.9589 - val_loss: 0.1454 - val_acc: 0.9612\n",
      "Epoch 129/500\n",
      "387/387 [==============================] - 23s 61ms/step - loss: 0.1410 - acc: 0.9619 - val_loss: 0.1380 - val_acc: 0.9612\n",
      "Epoch 130/500\n",
      "387/387 [==============================] - 24s 61ms/step - loss: 0.1435 - acc: 0.9602 - val_loss: 0.1459 - val_acc: 0.9637\n",
      "Epoch 131/500\n",
      "387/387 [==============================] - 24s 61ms/step - loss: 0.1422 - acc: 0.9614 - val_loss: 0.1362 - val_acc: 0.9619\n",
      "Epoch 132/500\n",
      "387/387 [==============================] - 24s 61ms/step - loss: 0.1451 - acc: 0.9600 - val_loss: 0.1408 - val_acc: 0.9604\n",
      "Epoch 133/500\n",
      "387/387 [==============================] - 24s 61ms/step - loss: 0.1408 - acc: 0.9628 - val_loss: 0.1317 - val_acc: 0.9644\n",
      "Epoch 134/500\n",
      "387/387 [==============================] - 23s 60ms/step - loss: 0.1421 - acc: 0.9613 - val_loss: 0.1374 - val_acc: 0.9623\n",
      "Epoch 135/500\n",
      "387/387 [==============================] - 23s 60ms/step - loss: 0.1456 - acc: 0.9599 - val_loss: 0.1369 - val_acc: 0.9630\n",
      "Epoch 136/500\n",
      "387/387 [==============================] - 23s 60ms/step - loss: 0.1400 - acc: 0.9615 - val_loss: 0.1576 - val_acc: 0.9532\n",
      "Epoch 137/500\n",
      "387/387 [==============================] - 23s 60ms/step - loss: 0.1425 - acc: 0.9608 - val_loss: 0.1432 - val_acc: 0.9593\n",
      "Epoch 138/500\n",
      "387/387 [==============================] - 23s 61ms/step - loss: 0.1409 - acc: 0.9611 - val_loss: 0.1329 - val_acc: 0.9612\n",
      "Epoch 139/500\n",
      "387/387 [==============================] - 23s 60ms/step - loss: 0.1449 - acc: 0.9613 - val_loss: 0.1430 - val_acc: 0.9608\n",
      "Epoch 140/500\n",
      "387/387 [==============================] - 24s 61ms/step - loss: 0.1409 - acc: 0.9607 - val_loss: 0.1357 - val_acc: 0.9637\n",
      "Epoch 141/500\n",
      "387/387 [==============================] - 23s 61ms/step - loss: 0.1392 - acc: 0.9613 - val_loss: 0.1596 - val_acc: 0.9543\n",
      "Epoch 142/500\n",
      "387/387 [==============================] - 23s 60ms/step - loss: 0.1432 - acc: 0.9604 - val_loss: 0.1335 - val_acc: 0.9648\n",
      "Epoch 143/500\n",
      "387/387 [==============================] - 23s 60ms/step - loss: 0.1435 - acc: 0.9612 - val_loss: 0.1367 - val_acc: 0.9615\n",
      "Epoch 144/500\n",
      "387/387 [==============================] - 24s 61ms/step - loss: 0.1444 - acc: 0.9602 - val_loss: 0.1506 - val_acc: 0.9615\n",
      "Epoch 145/500\n",
      "387/387 [==============================] - 23s 61ms/step - loss: 0.1411 - acc: 0.9617 - val_loss: 0.1379 - val_acc: 0.9623\n",
      "Epoch 146/500\n",
      "387/387 [==============================] - 24s 61ms/step - loss: 0.1406 - acc: 0.9618 - val_loss: 0.1354 - val_acc: 0.9655\n",
      "Epoch 147/500\n",
      "387/387 [==============================] - 23s 60ms/step - loss: 0.1442 - acc: 0.9600 - val_loss: 0.1336 - val_acc: 0.9601\n",
      "Epoch 148/500\n",
      "387/387 [==============================] - 24s 61ms/step - loss: 0.1410 - acc: 0.9616 - val_loss: 0.1386 - val_acc: 0.9615\n",
      "Epoch 149/500\n",
      "387/387 [==============================] - 23s 60ms/step - loss: 0.1423 - acc: 0.9603 - val_loss: 0.1574 - val_acc: 0.9564\n",
      "Epoch 150/500\n",
      "387/387 [==============================] - 24s 61ms/step - loss: 0.1443 - acc: 0.9609 - val_loss: 0.1413 - val_acc: 0.9604\n",
      "Epoch 151/500\n",
      "387/387 [==============================] - 24s 61ms/step - loss: 0.1374 - acc: 0.9625 - val_loss: 0.1327 - val_acc: 0.9626\n",
      "Epoch 152/500\n",
      "387/387 [==============================] - 24s 61ms/step - loss: 0.1468 - acc: 0.9597 - val_loss: 0.1384 - val_acc: 0.9619\n",
      "Epoch 153/500\n",
      "387/387 [==============================] - 23s 61ms/step - loss: 0.1380 - acc: 0.9605 - val_loss: 0.1326 - val_acc: 0.9604\n",
      "Epoch 154/500\n",
      "387/387 [==============================] - 23s 60ms/step - loss: 0.1405 - acc: 0.9607 - val_loss: 0.1402 - val_acc: 0.9630\n",
      "Epoch 155/500\n",
      "387/387 [==============================] - 23s 60ms/step - loss: 0.1432 - acc: 0.9609 - val_loss: 0.1412 - val_acc: 0.9608\n",
      "Epoch 156/500\n",
      "387/387 [==============================] - 23s 60ms/step - loss: 0.1424 - acc: 0.9619 - val_loss: 0.1302 - val_acc: 0.9648\n",
      "Epoch 157/500\n",
      "387/387 [==============================] - 23s 60ms/step - loss: 0.1392 - acc: 0.9614 - val_loss: 0.1309 - val_acc: 0.9626\n",
      "Epoch 158/500\n",
      "387/387 [==============================] - 23s 61ms/step - loss: 0.1409 - acc: 0.9614 - val_loss: 0.1347 - val_acc: 0.9604\n",
      "Epoch 159/500\n",
      "387/387 [==============================] - 23s 61ms/step - loss: 0.1368 - acc: 0.9620 - val_loss: 0.1284 - val_acc: 0.9637\n",
      "Epoch 160/500\n",
      "387/387 [==============================] - 23s 60ms/step - loss: 0.1370 - acc: 0.9635 - val_loss: 0.1282 - val_acc: 0.9623\n",
      "Epoch 161/500\n",
      "387/387 [==============================] - 23s 60ms/step - loss: 0.1391 - acc: 0.9612 - val_loss: 0.1417 - val_acc: 0.9612\n",
      "Epoch 162/500\n",
      "387/387 [==============================] - 23s 60ms/step - loss: 0.1441 - acc: 0.9605 - val_loss: 0.1385 - val_acc: 0.9619\n",
      "Epoch 163/500\n",
      "387/387 [==============================] - 23s 61ms/step - loss: 0.1413 - acc: 0.9617 - val_loss: 0.1415 - val_acc: 0.9601\n",
      "Epoch 164/500\n",
      "387/387 [==============================] - 23s 60ms/step - loss: 0.1376 - acc: 0.9606 - val_loss: 0.1366 - val_acc: 0.9597\n",
      "Epoch 165/500\n",
      "387/387 [==============================] - 23s 61ms/step - loss: 0.1408 - acc: 0.9601 - val_loss: 0.1493 - val_acc: 0.9554\n",
      "Epoch 166/500\n",
      "387/387 [==============================] - 24s 61ms/step - loss: 0.1423 - acc: 0.9612 - val_loss: 0.1343 - val_acc: 0.9633\n",
      "Epoch 167/500\n",
      "387/387 [==============================] - 23s 61ms/step - loss: 0.1406 - acc: 0.9616 - val_loss: 0.1352 - val_acc: 0.9641\n",
      "Epoch 168/500\n",
      "387/387 [==============================] - 23s 60ms/step - loss: 0.1439 - acc: 0.9618 - val_loss: 0.1408 - val_acc: 0.9593\n",
      "Epoch 169/500\n",
      "387/387 [==============================] - 24s 61ms/step - loss: 0.1419 - acc: 0.9605 - val_loss: 0.1354 - val_acc: 0.9630\n",
      "Epoch 170/500\n",
      "387/387 [==============================] - 23s 60ms/step - loss: 0.1420 - acc: 0.9619 - val_loss: 0.1360 - val_acc: 0.9644\n",
      "Epoch 171/500\n",
      "387/387 [==============================] - 23s 60ms/step - loss: 0.1370 - acc: 0.9624 - val_loss: 0.1442 - val_acc: 0.9612\n",
      "Epoch 172/500\n",
      "387/387 [==============================] - 23s 60ms/step - loss: 0.1400 - acc: 0.9623 - val_loss: 0.1294 - val_acc: 0.9630\n",
      "Epoch 173/500\n",
      "387/387 [==============================] - 24s 61ms/step - loss: 0.1380 - acc: 0.9624 - val_loss: 0.1338 - val_acc: 0.9633\n",
      "Epoch 174/500\n",
      "387/387 [==============================] - 23s 60ms/step - loss: 0.1404 - acc: 0.9621 - val_loss: 0.1346 - val_acc: 0.9619\n",
      "Epoch 175/500\n",
      "387/387 [==============================] - 23s 61ms/step - loss: 0.1408 - acc: 0.9616 - val_loss: 0.1378 - val_acc: 0.9608\n",
      "Epoch 176/500\n",
      "387/387 [==============================] - 23s 60ms/step - loss: 0.1368 - acc: 0.9633 - val_loss: 0.1316 - val_acc: 0.9652\n",
      "Epoch 177/500\n",
      "387/387 [==============================] - 23s 60ms/step - loss: 0.1436 - acc: 0.9607 - val_loss: 0.1345 - val_acc: 0.9612\n",
      "Epoch 178/500\n",
      "387/387 [==============================] - 23s 60ms/step - loss: 0.1376 - acc: 0.9622 - val_loss: 0.1374 - val_acc: 0.9623\n",
      "Epoch 179/500\n",
      "387/387 [==============================] - 23s 61ms/step - loss: 0.1427 - acc: 0.9611 - val_loss: 0.1416 - val_acc: 0.9619\n",
      "Epoch 180/500\n",
      "387/387 [==============================] - 23s 60ms/step - loss: 0.1424 - acc: 0.9610 - val_loss: 0.1490 - val_acc: 0.9572\n",
      "Epoch 181/500\n",
      "387/387 [==============================] - 24s 61ms/step - loss: 0.1361 - acc: 0.9620 - val_loss: 0.1587 - val_acc: 0.9528\n",
      "Epoch 182/500\n",
      "387/387 [==============================] - 24s 61ms/step - loss: 0.1368 - acc: 0.9627 - val_loss: 0.1316 - val_acc: 0.9641\n",
      "Epoch 183/500\n",
      "387/387 [==============================] - 24s 61ms/step - loss: 0.1359 - acc: 0.9631 - val_loss: 0.1350 - val_acc: 0.9630\n",
      "Epoch 184/500\n",
      "387/387 [==============================] - 23s 60ms/step - loss: 0.1428 - acc: 0.9592 - val_loss: 0.1330 - val_acc: 0.9641\n",
      "Epoch 185/500\n",
      "387/387 [==============================] - 23s 61ms/step - loss: 0.1356 - acc: 0.9640 - val_loss: 0.1296 - val_acc: 0.9648\n",
      "Epoch 186/500\n",
      "387/387 [==============================] - 23s 61ms/step - loss: 0.1359 - acc: 0.9621 - val_loss: 0.1330 - val_acc: 0.9601\n",
      "Epoch 187/500\n",
      "387/387 [==============================] - 24s 61ms/step - loss: 0.1366 - acc: 0.9634 - val_loss: 0.1391 - val_acc: 0.9590\n",
      "Epoch 188/500\n",
      "387/387 [==============================] - 23s 60ms/step - loss: 0.1387 - acc: 0.9614 - val_loss: 0.1316 - val_acc: 0.9630\n",
      "Epoch 189/500\n",
      "387/387 [==============================] - 24s 61ms/step - loss: 0.1390 - acc: 0.9618 - val_loss: 0.1377 - val_acc: 0.9612\n",
      "Epoch 190/500\n",
      "387/387 [==============================] - 24s 61ms/step - loss: 0.1392 - acc: 0.9623 - val_loss: 0.1353 - val_acc: 0.9623\n",
      "Epoch 191/500\n",
      "387/387 [==============================] - 24s 61ms/step - loss: 0.1335 - acc: 0.9636 - val_loss: 0.1326 - val_acc: 0.9648\n",
      "Epoch 192/500\n",
      "387/387 [==============================] - 23s 60ms/step - loss: 0.1381 - acc: 0.9615 - val_loss: 0.1397 - val_acc: 0.9615\n",
      "Epoch 193/500\n",
      "387/387 [==============================] - 23s 61ms/step - loss: 0.1400 - acc: 0.9614 - val_loss: 0.1399 - val_acc: 0.9615\n",
      "Epoch 194/500\n",
      "387/387 [==============================] - 24s 61ms/step - loss: 0.1389 - acc: 0.9612 - val_loss: 0.1380 - val_acc: 0.9615\n",
      "Epoch 195/500\n",
      "387/387 [==============================] - 23s 60ms/step - loss: 0.1388 - acc: 0.9632 - val_loss: 0.1419 - val_acc: 0.9586\n",
      "Epoch 196/500\n",
      "387/387 [==============================] - 23s 60ms/step - loss: 0.1353 - acc: 0.9622 - val_loss: 0.1348 - val_acc: 0.9623\n",
      "Epoch 197/500\n",
      "387/387 [==============================] - 23s 60ms/step - loss: 0.1409 - acc: 0.9608 - val_loss: 0.1362 - val_acc: 0.9619\n",
      "Epoch 198/500\n",
      "387/387 [==============================] - 23s 60ms/step - loss: 0.1419 - acc: 0.9612 - val_loss: 0.1256 - val_acc: 0.9641\n",
      "Epoch 199/500\n",
      "387/387 [==============================] - 24s 61ms/step - loss: 0.1334 - acc: 0.9635 - val_loss: 0.1392 - val_acc: 0.9586\n",
      "Epoch 200/500\n",
      "387/387 [==============================] - 23s 60ms/step - loss: 0.1419 - acc: 0.9602 - val_loss: 0.1315 - val_acc: 0.9626\n",
      "Epoch 201/500\n",
      "387/387 [==============================] - 23s 61ms/step - loss: 0.1376 - acc: 0.9638 - val_loss: 0.1339 - val_acc: 0.9633\n",
      "Epoch 202/500\n",
      "387/387 [==============================] - 23s 60ms/step - loss: 0.1358 - acc: 0.9620 - val_loss: 0.1392 - val_acc: 0.9590\n",
      "Epoch 203/500\n",
      "387/387 [==============================] - 23s 60ms/step - loss: 0.1403 - acc: 0.9616 - val_loss: 0.1344 - val_acc: 0.9633\n",
      "Epoch 204/500\n",
      "387/387 [==============================] - 23s 60ms/step - loss: 0.1339 - acc: 0.9638 - val_loss: 0.1335 - val_acc: 0.9648\n",
      "Epoch 205/500\n",
      "387/387 [==============================] - 23s 61ms/step - loss: 0.1383 - acc: 0.9614 - val_loss: 0.1354 - val_acc: 0.9619\n",
      "Epoch 206/500\n",
      "387/387 [==============================] - 23s 61ms/step - loss: 0.1377 - acc: 0.9620 - val_loss: 0.1324 - val_acc: 0.9623\n",
      "Epoch 207/500\n",
      "387/387 [==============================] - 23s 60ms/step - loss: 0.1332 - acc: 0.9628 - val_loss: 0.1394 - val_acc: 0.9590\n",
      "Epoch 208/500\n",
      "387/387 [==============================] - 23s 60ms/step - loss: 0.1363 - acc: 0.9628 - val_loss: 0.1323 - val_acc: 0.9641\n",
      "Epoch 209/500\n",
      "387/387 [==============================] - 24s 61ms/step - loss: 0.1371 - acc: 0.9620 - val_loss: 0.1335 - val_acc: 0.9637\n",
      "Epoch 210/500\n",
      "387/387 [==============================] - 23s 61ms/step - loss: 0.1373 - acc: 0.9633 - val_loss: 0.1355 - val_acc: 0.9626\n",
      "Epoch 211/500\n",
      "387/387 [==============================] - 23s 60ms/step - loss: 0.1391 - acc: 0.9627 - val_loss: 0.1402 - val_acc: 0.9597\n",
      "Epoch 212/500\n",
      "387/387 [==============================] - 23s 60ms/step - loss: 0.1343 - acc: 0.9642 - val_loss: 0.1461 - val_acc: 0.9593\n",
      "Epoch 213/500\n",
      "387/387 [==============================] - 23s 60ms/step - loss: 0.1369 - acc: 0.9629 - val_loss: 0.1291 - val_acc: 0.9652\n",
      "Epoch 214/500\n",
      "387/387 [==============================] - 24s 61ms/step - loss: 0.1408 - acc: 0.9619 - val_loss: 0.1326 - val_acc: 0.9623\n",
      "Epoch 215/500\n",
      "387/387 [==============================] - 23s 60ms/step - loss: 0.1343 - acc: 0.9643 - val_loss: 0.1431 - val_acc: 0.9586\n",
      "Epoch 216/500\n",
      "387/387 [==============================] - 23s 60ms/step - loss: 0.1392 - acc: 0.9616 - val_loss: 0.1378 - val_acc: 0.9623\n",
      "Epoch 217/500\n",
      "387/387 [==============================] - 23s 61ms/step - loss: 0.1351 - acc: 0.9623 - val_loss: 0.1353 - val_acc: 0.9615\n",
      "Epoch 218/500\n",
      "387/387 [==============================] - 23s 60ms/step - loss: 0.1389 - acc: 0.9634 - val_loss: 0.1351 - val_acc: 0.9626\n",
      "Epoch 219/500\n",
      "387/387 [==============================] - 23s 60ms/step - loss: 0.1391 - acc: 0.9620 - val_loss: 0.1487 - val_acc: 0.9543\n",
      "Epoch 220/500\n",
      "387/387 [==============================] - 23s 60ms/step - loss: 0.1333 - acc: 0.9636 - val_loss: 0.1364 - val_acc: 0.9608\n",
      "Epoch 221/500\n",
      "387/387 [==============================] - 24s 61ms/step - loss: 0.1402 - acc: 0.9610 - val_loss: 0.1352 - val_acc: 0.9619\n",
      "Epoch 222/500\n",
      "387/387 [==============================] - 24s 61ms/step - loss: 0.1357 - acc: 0.9633 - val_loss: 0.1483 - val_acc: 0.9612\n",
      "Epoch 223/500\n",
      "387/387 [==============================] - 23s 60ms/step - loss: 0.1330 - acc: 0.9637 - val_loss: 0.1375 - val_acc: 0.9619\n",
      "Epoch 224/500\n",
      "387/387 [==============================] - 23s 60ms/step - loss: 0.1404 - acc: 0.9615 - val_loss: 0.1313 - val_acc: 0.9659\n",
      "Epoch 225/500\n",
      "387/387 [==============================] - 24s 61ms/step - loss: 0.1330 - acc: 0.9636 - val_loss: 0.1332 - val_acc: 0.9630\n",
      "Epoch 226/500\n",
      "387/387 [==============================] - 23s 60ms/step - loss: 0.1366 - acc: 0.9634 - val_loss: 0.1388 - val_acc: 0.9623\n",
      "Epoch 227/500\n",
      "387/387 [==============================] - 23s 60ms/step - loss: 0.1419 - acc: 0.9608 - val_loss: 0.1354 - val_acc: 0.9641\n",
      "Epoch 228/500\n",
      "387/387 [==============================] - 23s 60ms/step - loss: 0.1342 - acc: 0.9631 - val_loss: 0.1342 - val_acc: 0.9637\n",
      "Epoch 229/500\n",
      "387/387 [==============================] - 23s 61ms/step - loss: 0.1404 - acc: 0.9612 - val_loss: 0.1405 - val_acc: 0.9593\n",
      "Epoch 230/500\n",
      "387/387 [==============================] - 23s 61ms/step - loss: 0.1365 - acc: 0.9624 - val_loss: 0.1360 - val_acc: 0.9608\n",
      "Epoch 231/500\n",
      "387/387 [==============================] - 23s 61ms/step - loss: 0.1365 - acc: 0.9632 - val_loss: 0.1284 - val_acc: 0.9644\n",
      "Epoch 232/500\n",
      "387/387 [==============================] - 23s 60ms/step - loss: 0.1345 - acc: 0.9641 - val_loss: 0.1333 - val_acc: 0.9641\n",
      "Epoch 233/500\n",
      "387/387 [==============================] - 23s 60ms/step - loss: 0.1322 - acc: 0.9636 - val_loss: 0.1317 - val_acc: 0.9623\n",
      "Epoch 234/500\n",
      "387/387 [==============================] - 23s 61ms/step - loss: 0.1405 - acc: 0.9629 - val_loss: 0.1390 - val_acc: 0.9608\n",
      "Epoch 235/500\n",
      "387/387 [==============================] - 24s 61ms/step - loss: 0.1364 - acc: 0.9622 - val_loss: 0.1263 - val_acc: 0.9637\n",
      "Epoch 236/500\n",
      "387/387 [==============================] - 23s 60ms/step - loss: 0.1366 - acc: 0.9619 - val_loss: 0.1429 - val_acc: 0.9561\n",
      "Epoch 237/500\n",
      "387/387 [==============================] - 23s 59ms/step - loss: 0.1352 - acc: 0.9624 - val_loss: 0.1327 - val_acc: 0.9648\n",
      "Epoch 238/500\n",
      "387/387 [==============================] - 24s 61ms/step - loss: 0.1354 - acc: 0.9631 - val_loss: 0.1317 - val_acc: 0.9619\n",
      "Epoch 239/500\n",
      "387/387 [==============================] - 23s 61ms/step - loss: 0.1337 - acc: 0.9646 - val_loss: 0.1356 - val_acc: 0.9619\n",
      "Epoch 240/500\n",
      "387/387 [==============================] - 23s 61ms/step - loss: 0.1341 - acc: 0.9630 - val_loss: 0.1404 - val_acc: 0.9604\n",
      "Epoch 241/500\n",
      "387/387 [==============================] - 23s 60ms/step - loss: 0.1374 - acc: 0.9633 - val_loss: 0.1306 - val_acc: 0.9644\n",
      "Epoch 242/500\n",
      "387/387 [==============================] - 23s 60ms/step - loss: 0.1337 - acc: 0.9629 - val_loss: 0.1344 - val_acc: 0.9604\n",
      "Epoch 243/500\n",
      "387/387 [==============================] - 23s 61ms/step - loss: 0.1350 - acc: 0.9631 - val_loss: 0.1412 - val_acc: 0.9572\n",
      "Epoch 244/500\n",
      "387/387 [==============================] - 23s 61ms/step - loss: 0.1370 - acc: 0.9638 - val_loss: 0.1371 - val_acc: 0.9601\n",
      "Epoch 245/500\n",
      "387/387 [==============================] - 23s 60ms/step - loss: 0.1353 - acc: 0.9635 - val_loss: 0.1370 - val_acc: 0.9633\n",
      "Epoch 246/500\n",
      "387/387 [==============================] - 23s 61ms/step - loss: 0.1359 - acc: 0.9621 - val_loss: 0.1373 - val_acc: 0.9615\n",
      "Epoch 247/500\n",
      "387/387 [==============================] - 23s 60ms/step - loss: 0.1352 - acc: 0.9636 - val_loss: 0.1310 - val_acc: 0.9652\n",
      "Epoch 248/500\n",
      "387/387 [==============================] - 23s 60ms/step - loss: 0.1347 - acc: 0.9646 - val_loss: 0.1387 - val_acc: 0.9615\n",
      "Epoch 249/500\n",
      "387/387 [==============================] - 23s 60ms/step - loss: 0.1366 - acc: 0.9621 - val_loss: 0.1377 - val_acc: 0.9608\n",
      "Epoch 250/500\n",
      "387/387 [==============================] - 24s 61ms/step - loss: 0.1348 - acc: 0.9627 - val_loss: 0.1402 - val_acc: 0.9583\n",
      "Epoch 251/500\n",
      "387/387 [==============================] - 24s 61ms/step - loss: 0.1328 - acc: 0.9644 - val_loss: 0.1316 - val_acc: 0.9630\n",
      "Epoch 252/500\n",
      "387/387 [==============================] - 23s 60ms/step - loss: 0.1297 - acc: 0.9635 - val_loss: 0.1399 - val_acc: 0.9572\n",
      "Epoch 253/500\n",
      "387/387 [==============================] - 23s 60ms/step - loss: 0.1345 - acc: 0.9648 - val_loss: 0.1299 - val_acc: 0.9590\n",
      "Epoch 254/500\n",
      "387/387 [==============================] - 23s 60ms/step - loss: 0.1365 - acc: 0.9619 - val_loss: 0.1376 - val_acc: 0.9637\n",
      "Epoch 255/500\n",
      "387/387 [==============================] - 23s 61ms/step - loss: 0.1363 - acc: 0.9640 - val_loss: 0.1281 - val_acc: 0.9626\n",
      "Epoch 256/500\n",
      "387/387 [==============================] - 23s 60ms/step - loss: 0.1327 - acc: 0.9629 - val_loss: 0.1250 - val_acc: 0.9630\n",
      "Epoch 257/500\n",
      "387/387 [==============================] - 23s 60ms/step - loss: 0.1342 - acc: 0.9647 - val_loss: 0.1321 - val_acc: 0.9619\n",
      "Epoch 258/500\n",
      "387/387 [==============================] - 23s 60ms/step - loss: 0.1303 - acc: 0.9652 - val_loss: 0.1291 - val_acc: 0.9637\n",
      "Epoch 259/500\n",
      "387/387 [==============================] - 23s 61ms/step - loss: 0.1335 - acc: 0.9636 - val_loss: 0.1320 - val_acc: 0.9630\n",
      "Epoch 260/500\n",
      "387/387 [==============================] - 23s 61ms/step - loss: 0.1303 - acc: 0.9638 - val_loss: 0.1476 - val_acc: 0.9575\n",
      "Epoch 261/500\n",
      "387/387 [==============================] - 23s 60ms/step - loss: 0.1372 - acc: 0.9633 - val_loss: 0.1405 - val_acc: 0.9604\n",
      "Epoch 262/500\n",
      "387/387 [==============================] - 24s 61ms/step - loss: 0.1362 - acc: 0.9627 - val_loss: 0.1417 - val_acc: 0.9586\n",
      "Epoch 263/500\n",
      "387/387 [==============================] - 24s 61ms/step - loss: 0.1334 - acc: 0.9646 - val_loss: 0.1356 - val_acc: 0.9630\n",
      "Epoch 264/500\n",
      "387/387 [==============================] - 23s 61ms/step - loss: 0.1372 - acc: 0.9630 - val_loss: 0.1398 - val_acc: 0.9623\n",
      "Epoch 265/500\n",
      "387/387 [==============================] - 23s 60ms/step - loss: 0.1312 - acc: 0.9650 - val_loss: 0.1314 - val_acc: 0.9630\n",
      "Epoch 266/500\n",
      "387/387 [==============================] - 23s 60ms/step - loss: 0.1379 - acc: 0.9618 - val_loss: 0.1381 - val_acc: 0.9623\n",
      "Epoch 267/500\n",
      "387/387 [==============================] - 23s 60ms/step - loss: 0.1319 - acc: 0.9656 - val_loss: 0.1264 - val_acc: 0.9630\n",
      "Epoch 268/500\n",
      "387/387 [==============================] - 23s 60ms/step - loss: 0.1353 - acc: 0.9631 - val_loss: 0.1372 - val_acc: 0.9586\n",
      "Epoch 269/500\n",
      "387/387 [==============================] - 23s 60ms/step - loss: 0.1340 - acc: 0.9646 - val_loss: 0.1508 - val_acc: 0.9539\n",
      "Epoch 270/500\n",
      "387/387 [==============================] - 23s 61ms/step - loss: 0.1348 - acc: 0.9642 - val_loss: 0.1354 - val_acc: 0.9608\n",
      "Epoch 271/500\n",
      "387/387 [==============================] - 23s 61ms/step - loss: 0.1317 - acc: 0.9648 - val_loss: 0.1432 - val_acc: 0.9535\n",
      "Epoch 272/500\n",
      "387/387 [==============================] - 23s 60ms/step - loss: 0.1386 - acc: 0.9625 - val_loss: 0.1355 - val_acc: 0.9590\n",
      "Epoch 273/500\n",
      "387/387 [==============================] - 23s 60ms/step - loss: 0.1351 - acc: 0.9636 - val_loss: 0.1354 - val_acc: 0.9615\n",
      "Epoch 274/500\n",
      "387/387 [==============================] - 23s 60ms/step - loss: 0.1340 - acc: 0.9648 - val_loss: 0.1326 - val_acc: 0.9619\n",
      "Epoch 275/500\n",
      "387/387 [==============================] - 24s 61ms/step - loss: 0.1342 - acc: 0.9630 - val_loss: 0.1331 - val_acc: 0.9597\n",
      "Epoch 276/500\n",
      "387/387 [==============================] - 23s 61ms/step - loss: 0.1334 - acc: 0.9631 - val_loss: 0.1331 - val_acc: 0.9612\n",
      "Epoch 277/500\n",
      "387/387 [==============================] - 23s 60ms/step - loss: 0.1345 - acc: 0.9635 - val_loss: 0.1419 - val_acc: 0.9615\n",
      "Epoch 278/500\n",
      "387/387 [==============================] - 24s 61ms/step - loss: 0.1318 - acc: 0.9651 - val_loss: 0.1404 - val_acc: 0.9612\n",
      "Epoch 279/500\n",
      "387/387 [==============================] - 23s 61ms/step - loss: 0.1328 - acc: 0.9633 - val_loss: 0.1341 - val_acc: 0.9644\n",
      "Epoch 280/500\n",
      "387/387 [==============================] - 24s 61ms/step - loss: 0.1322 - acc: 0.9643 - val_loss: 0.1296 - val_acc: 0.9623\n",
      "Epoch 281/500\n",
      "387/387 [==============================] - 23s 60ms/step - loss: 0.1332 - acc: 0.9630 - val_loss: 0.1272 - val_acc: 0.9626\n",
      "Epoch 282/500\n",
      "387/387 [==============================] - 23s 61ms/step - loss: 0.1336 - acc: 0.9648 - val_loss: 0.1361 - val_acc: 0.9601\n",
      "Epoch 283/500\n",
      "387/387 [==============================] - 23s 60ms/step - loss: 0.1304 - acc: 0.9648 - val_loss: 0.1314 - val_acc: 0.9633\n",
      "Epoch 284/500\n",
      "387/387 [==============================] - 23s 60ms/step - loss: 0.1370 - acc: 0.9630 - val_loss: 0.1418 - val_acc: 0.9604\n",
      "Epoch 285/500\n",
      "387/387 [==============================] - 23s 60ms/step - loss: 0.1359 - acc: 0.9628 - val_loss: 0.1286 - val_acc: 0.9644\n",
      "Epoch 286/500\n",
      "387/387 [==============================] - 23s 60ms/step - loss: 0.1297 - acc: 0.9657 - val_loss: 0.1328 - val_acc: 0.9615\n",
      "Epoch 287/500\n",
      "387/387 [==============================] - 23s 60ms/step - loss: 0.1304 - acc: 0.9632 - val_loss: 0.1418 - val_acc: 0.9593\n",
      "Epoch 288/500\n",
      "387/387 [==============================] - 23s 61ms/step - loss: 0.1341 - acc: 0.9646 - val_loss: 0.1310 - val_acc: 0.9633\n",
      "Epoch 289/500\n",
      "387/387 [==============================] - 23s 60ms/step - loss: 0.1324 - acc: 0.9626 - val_loss: 0.1289 - val_acc: 0.9637\n",
      "Epoch 290/500\n",
      "387/387 [==============================] - 24s 61ms/step - loss: 0.1322 - acc: 0.9639 - val_loss: 0.1471 - val_acc: 0.9564\n",
      "Epoch 291/500\n",
      "387/387 [==============================] - 24s 61ms/step - loss: 0.1313 - acc: 0.9637 - val_loss: 0.1255 - val_acc: 0.9626\n",
      "Epoch 292/500\n",
      "387/387 [==============================] - 23s 61ms/step - loss: 0.1361 - acc: 0.9625 - val_loss: 0.1271 - val_acc: 0.9633\n",
      "Epoch 293/500\n",
      "387/387 [==============================] - 23s 61ms/step - loss: 0.1314 - acc: 0.9648 - val_loss: 0.1510 - val_acc: 0.9561\n",
      "Epoch 294/500\n",
      "387/387 [==============================] - 24s 61ms/step - loss: 0.1305 - acc: 0.9640 - val_loss: 0.1290 - val_acc: 0.9619\n",
      "Epoch 295/500\n",
      "387/387 [==============================] - 23s 61ms/step - loss: 0.1348 - acc: 0.9637 - val_loss: 0.1319 - val_acc: 0.9612\n",
      "Epoch 296/500\n",
      "387/387 [==============================] - 23s 60ms/step - loss: 0.1326 - acc: 0.9634 - val_loss: 0.1288 - val_acc: 0.9615\n",
      "Epoch 297/500\n",
      "387/387 [==============================] - 23s 60ms/step - loss: 0.1288 - acc: 0.9648 - val_loss: 0.1361 - val_acc: 0.9597\n",
      "Epoch 298/500\n",
      "387/387 [==============================] - 23s 61ms/step - loss: 0.1352 - acc: 0.9623 - val_loss: 0.1269 - val_acc: 0.9652\n",
      "Epoch 299/500\n",
      "387/387 [==============================] - 23s 60ms/step - loss: 0.1294 - acc: 0.9643 - val_loss: 0.1339 - val_acc: 0.9652\n",
      "Epoch 300/500\n",
      "387/387 [==============================] - 23s 61ms/step - loss: 0.1354 - acc: 0.9628 - val_loss: 0.1520 - val_acc: 0.9528\n",
      "Epoch 301/500\n",
      "387/387 [==============================] - 23s 60ms/step - loss: 0.1313 - acc: 0.9644 - val_loss: 0.1321 - val_acc: 0.9612\n",
      "Epoch 302/500\n",
      "387/387 [==============================] - 24s 61ms/step - loss: 0.1375 - acc: 0.9624 - val_loss: 0.1286 - val_acc: 0.9666\n",
      "Epoch 303/500\n",
      "387/387 [==============================] - 23s 60ms/step - loss: 0.1284 - acc: 0.9650 - val_loss: 0.1329 - val_acc: 0.9630\n",
      "Epoch 304/500\n",
      "387/387 [==============================] - 23s 60ms/step - loss: 0.1356 - acc: 0.9633 - val_loss: 0.1293 - val_acc: 0.9652\n",
      "Epoch 305/500\n",
      "387/387 [==============================] - 23s 59ms/step - loss: 0.1329 - acc: 0.9638 - val_loss: 0.1272 - val_acc: 0.9641\n",
      "Epoch 306/500\n",
      "387/387 [==============================] - 23s 60ms/step - loss: 0.1304 - acc: 0.9647 - val_loss: 0.1319 - val_acc: 0.9619\n",
      "Epoch 307/500\n",
      "387/387 [==============================] - 23s 61ms/step - loss: 0.1317 - acc: 0.9639 - val_loss: 0.1268 - val_acc: 0.9648\n",
      "Epoch 308/500\n",
      "387/387 [==============================] - 23s 60ms/step - loss: 0.1346 - acc: 0.9638 - val_loss: 0.1396 - val_acc: 0.9648\n",
      "Epoch 309/500\n",
      "387/387 [==============================] - 23s 60ms/step - loss: 0.1336 - acc: 0.9636 - val_loss: 0.1273 - val_acc: 0.9637\n",
      "Epoch 310/500\n",
      "387/387 [==============================] - 24s 61ms/step - loss: 0.1335 - acc: 0.9637 - val_loss: 0.1424 - val_acc: 0.9633\n",
      "Epoch 311/500\n",
      "387/387 [==============================] - 24s 61ms/step - loss: 0.1340 - acc: 0.9629 - val_loss: 0.1289 - val_acc: 0.9655\n",
      "Epoch 312/500\n",
      "387/387 [==============================] - 23s 60ms/step - loss: 0.1328 - acc: 0.9639 - val_loss: 0.1203 - val_acc: 0.9677\n",
      "Epoch 313/500\n",
      "387/387 [==============================] - 23s 60ms/step - loss: 0.1333 - acc: 0.9639 - val_loss: 0.1429 - val_acc: 0.9528\n",
      "Epoch 314/500\n",
      "387/387 [==============================] - 23s 61ms/step - loss: 0.1338 - acc: 0.9635 - val_loss: 0.1340 - val_acc: 0.9619\n",
      "Epoch 315/500\n",
      "387/387 [==============================] - 24s 61ms/step - loss: 0.1339 - acc: 0.9634 - val_loss: 0.1336 - val_acc: 0.9626\n",
      "Epoch 316/500\n",
      "387/387 [==============================] - 23s 61ms/step - loss: 0.1289 - acc: 0.9652 - val_loss: 0.1333 - val_acc: 0.9597\n",
      "Epoch 317/500\n",
      "387/387 [==============================] - 23s 60ms/step - loss: 0.1329 - acc: 0.9644 - val_loss: 0.1244 - val_acc: 0.9641\n",
      "Epoch 318/500\n",
      "387/387 [==============================] - 23s 60ms/step - loss: 0.1347 - acc: 0.9626 - val_loss: 0.1292 - val_acc: 0.9615\n",
      "Epoch 319/500\n",
      "387/387 [==============================] - 23s 61ms/step - loss: 0.1315 - acc: 0.9641 - val_loss: 0.1338 - val_acc: 0.9633\n",
      "Epoch 320/500\n",
      "387/387 [==============================] - 23s 60ms/step - loss: 0.1320 - acc: 0.9633 - val_loss: 0.1353 - val_acc: 0.9612\n",
      "Epoch 321/500\n",
      "387/387 [==============================] - 23s 61ms/step - loss: 0.1304 - acc: 0.9650 - val_loss: 0.1272 - val_acc: 0.9652\n",
      "Epoch 322/500\n",
      "387/387 [==============================] - 23s 60ms/step - loss: 0.1294 - acc: 0.9647 - val_loss: 0.1256 - val_acc: 0.9626\n",
      "Epoch 323/500\n",
      "387/387 [==============================] - 23s 61ms/step - loss: 0.1323 - acc: 0.9640 - val_loss: 0.1529 - val_acc: 0.9503\n",
      "Epoch 324/500\n",
      "387/387 [==============================] - 24s 61ms/step - loss: 0.1313 - acc: 0.9652 - val_loss: 0.1321 - val_acc: 0.9637\n",
      "Epoch 325/500\n",
      "387/387 [==============================] - 23s 61ms/step - loss: 0.1330 - acc: 0.9644 - val_loss: 0.1310 - val_acc: 0.9644\n",
      "Epoch 326/500\n",
      "387/387 [==============================] - 23s 60ms/step - loss: 0.1298 - acc: 0.9644 - val_loss: 0.1377 - val_acc: 0.9612\n",
      "Epoch 327/500\n",
      "387/387 [==============================] - 23s 60ms/step - loss: 0.1305 - acc: 0.9645 - val_loss: 0.1311 - val_acc: 0.9619\n",
      "Epoch 328/500\n",
      "387/387 [==============================] - 24s 61ms/step - loss: 0.1310 - acc: 0.9644 - val_loss: 0.1309 - val_acc: 0.9637\n",
      "Epoch 329/500\n",
      "387/387 [==============================] - 24s 61ms/step - loss: 0.1329 - acc: 0.9636 - val_loss: 0.1338 - val_acc: 0.9623\n",
      "Epoch 330/500\n",
      "387/387 [==============================] - 23s 60ms/step - loss: 0.1285 - acc: 0.9651 - val_loss: 0.1342 - val_acc: 0.9630\n",
      "Epoch 331/500\n",
      "387/387 [==============================] - 23s 60ms/step - loss: 0.1357 - acc: 0.9631 - val_loss: 0.1280 - val_acc: 0.9612\n",
      "Epoch 332/500\n",
      "387/387 [==============================] - 23s 60ms/step - loss: 0.1331 - acc: 0.9638 - val_loss: 0.1332 - val_acc: 0.9623\n",
      "Epoch 333/500\n",
      "387/387 [==============================] - 23s 60ms/step - loss: 0.1319 - acc: 0.9640 - val_loss: 0.1246 - val_acc: 0.9615\n",
      "Epoch 334/500\n",
      "387/387 [==============================] - 23s 60ms/step - loss: 0.1303 - acc: 0.9650 - val_loss: 0.1315 - val_acc: 0.9633\n",
      "Epoch 335/500\n",
      "387/387 [==============================] - 23s 60ms/step - loss: 0.1274 - acc: 0.9661 - val_loss: 0.1354 - val_acc: 0.9619\n",
      "Epoch 336/500\n",
      "387/387 [==============================] - 24s 61ms/step - loss: 0.1300 - acc: 0.9646 - val_loss: 0.1453 - val_acc: 0.9543\n",
      "Epoch 337/500\n",
      "387/387 [==============================] - 24s 61ms/step - loss: 0.1306 - acc: 0.9642 - val_loss: 0.1340 - val_acc: 0.9619\n",
      "Epoch 338/500\n",
      "387/387 [==============================] - 23s 60ms/step - loss: 0.1300 - acc: 0.9654 - val_loss: 0.1182 - val_acc: 0.9655\n",
      "Epoch 339/500\n",
      "387/387 [==============================] - 24s 61ms/step - loss: 0.1294 - acc: 0.9650 - val_loss: 0.1338 - val_acc: 0.9655\n",
      "Epoch 340/500\n",
      "387/387 [==============================] - 23s 60ms/step - loss: 0.1321 - acc: 0.9641 - val_loss: 0.1303 - val_acc: 0.9633\n",
      "Epoch 341/500\n",
      "387/387 [==============================] - 24s 61ms/step - loss: 0.1281 - acc: 0.9650 - val_loss: 0.1324 - val_acc: 0.9615\n",
      "Epoch 342/500\n",
      "387/387 [==============================] - 23s 60ms/step - loss: 0.1296 - acc: 0.9660 - val_loss: 0.1398 - val_acc: 0.9590\n",
      "Epoch 343/500\n",
      "387/387 [==============================] - 23s 60ms/step - loss: 0.1313 - acc: 0.9639 - val_loss: 0.1653 - val_acc: 0.9419\n",
      "Epoch 344/500\n",
      "387/387 [==============================] - 23s 60ms/step - loss: 0.1316 - acc: 0.9644 - val_loss: 0.1271 - val_acc: 0.9641\n",
      "Epoch 345/500\n",
      "387/387 [==============================] - 23s 61ms/step - loss: 0.1309 - acc: 0.9644 - val_loss: 0.1324 - val_acc: 0.9619\n",
      "Epoch 346/500\n",
      "387/387 [==============================] - 23s 60ms/step - loss: 0.1271 - acc: 0.9647 - val_loss: 0.1317 - val_acc: 0.9637\n",
      "Epoch 347/500\n",
      "387/387 [==============================] - 23s 60ms/step - loss: 0.1315 - acc: 0.9644 - val_loss: 0.1285 - val_acc: 0.9626\n",
      "Epoch 348/500\n",
      "387/387 [==============================] - 23s 60ms/step - loss: 0.1314 - acc: 0.9638 - val_loss: 0.1275 - val_acc: 0.9644\n",
      "Epoch 349/500\n",
      "387/387 [==============================] - 23s 60ms/step - loss: 0.1306 - acc: 0.9641 - val_loss: 0.1480 - val_acc: 0.9579\n",
      "Epoch 350/500\n",
      "387/387 [==============================] - 23s 60ms/step - loss: 0.1295 - acc: 0.9658 - val_loss: 0.1289 - val_acc: 0.9644\n",
      "Epoch 351/500\n",
      "387/387 [==============================] - 23s 60ms/step - loss: 0.1326 - acc: 0.9635 - val_loss: 0.1242 - val_acc: 0.9666\n",
      "Epoch 352/500\n",
      "387/387 [==============================] - 23s 60ms/step - loss: 0.1265 - acc: 0.9663 - val_loss: 0.1399 - val_acc: 0.9623\n",
      "Epoch 353/500\n",
      "387/387 [==============================] - 23s 61ms/step - loss: 0.1313 - acc: 0.9637 - val_loss: 0.1261 - val_acc: 0.9633\n",
      "Epoch 354/500\n",
      "387/387 [==============================] - 23s 60ms/step - loss: 0.1315 - acc: 0.9652 - val_loss: 0.1323 - val_acc: 0.9630\n",
      "Epoch 355/500\n",
      "387/387 [==============================] - 23s 61ms/step - loss: 0.1300 - acc: 0.9643 - val_loss: 0.1367 - val_acc: 0.9608\n",
      "Epoch 356/500\n",
      "387/387 [==============================] - 23s 61ms/step - loss: 0.1288 - acc: 0.9657 - val_loss: 0.1321 - val_acc: 0.9604\n",
      "Epoch 357/500\n",
      "387/387 [==============================] - 23s 61ms/step - loss: 0.1284 - acc: 0.9646 - val_loss: 0.1294 - val_acc: 0.9630\n",
      "Epoch 358/500\n",
      "387/387 [==============================] - 23s 60ms/step - loss: 0.1300 - acc: 0.9655 - val_loss: 0.1315 - val_acc: 0.9633\n",
      "Epoch 359/500\n",
      "387/387 [==============================] - 23s 60ms/step - loss: 0.1280 - acc: 0.9649 - val_loss: 0.1311 - val_acc: 0.9630\n",
      "Epoch 360/500\n",
      "387/387 [==============================] - 23s 60ms/step - loss: 0.1305 - acc: 0.9645 - val_loss: 0.1328 - val_acc: 0.9615\n",
      "Epoch 361/500\n",
      "387/387 [==============================] - 23s 61ms/step - loss: 0.1290 - acc: 0.9647 - val_loss: 0.1271 - val_acc: 0.9615\n",
      "Epoch 362/500\n",
      "387/387 [==============================] - 24s 61ms/step - loss: 0.1293 - acc: 0.9651 - val_loss: 0.1350 - val_acc: 0.9608\n",
      "Epoch 363/500\n",
      "387/387 [==============================] - 24s 61ms/step - loss: 0.1287 - acc: 0.9654 - val_loss: 0.1338 - val_acc: 0.9641\n",
      "Epoch 364/500\n",
      "387/387 [==============================] - 24s 61ms/step - loss: 0.1308 - acc: 0.9646 - val_loss: 0.1335 - val_acc: 0.9619\n",
      "Epoch 365/500\n",
      "387/387 [==============================] - 23s 61ms/step - loss: 0.1301 - acc: 0.9651 - val_loss: 0.1308 - val_acc: 0.9619\n",
      "Epoch 366/500\n",
      "387/387 [==============================] - 23s 61ms/step - loss: 0.1294 - acc: 0.9652 - val_loss: 0.1247 - val_acc: 0.9655\n",
      "Epoch 367/500\n",
      "387/387 [==============================] - 24s 61ms/step - loss: 0.1296 - acc: 0.9650 - val_loss: 0.1353 - val_acc: 0.9630\n",
      "Epoch 368/500\n",
      "387/387 [==============================] - 24s 61ms/step - loss: 0.1298 - acc: 0.9644 - val_loss: 0.1258 - val_acc: 0.9641\n",
      "Epoch 369/500\n",
      "387/387 [==============================] - 23s 61ms/step - loss: 0.1320 - acc: 0.9637 - val_loss: 0.1356 - val_acc: 0.9615\n",
      "Epoch 370/500\n",
      "387/387 [==============================] - 23s 60ms/step - loss: 0.1316 - acc: 0.9654 - val_loss: 0.1233 - val_acc: 0.9637\n",
      "Epoch 371/500\n",
      "387/387 [==============================] - 23s 61ms/step - loss: 0.1279 - acc: 0.9652 - val_loss: 0.1285 - val_acc: 0.9637\n",
      "Epoch 372/500\n",
      "387/387 [==============================] - 23s 60ms/step - loss: 0.1276 - acc: 0.9660 - val_loss: 0.1305 - val_acc: 0.9641\n",
      "Epoch 373/500\n",
      "387/387 [==============================] - 23s 60ms/step - loss: 0.1307 - acc: 0.9638 - val_loss: 0.1375 - val_acc: 0.9593\n",
      "Epoch 374/500\n",
      "387/387 [==============================] - 23s 60ms/step - loss: 0.1281 - acc: 0.9655 - val_loss: 0.1329 - val_acc: 0.9619\n",
      "Epoch 375/500\n",
      "387/387 [==============================] - 24s 61ms/step - loss: 0.1265 - acc: 0.9655 - val_loss: 0.1362 - val_acc: 0.9626\n",
      "Epoch 376/500\n",
      "387/387 [==============================] - 24s 61ms/step - loss: 0.1288 - acc: 0.9650 - val_loss: 0.1343 - val_acc: 0.9637\n",
      "Epoch 377/500\n",
      "387/387 [==============================] - 24s 61ms/step - loss: 0.1329 - acc: 0.9628 - val_loss: 0.1306 - val_acc: 0.9604\n",
      "Epoch 378/500\n",
      "387/387 [==============================] - 23s 60ms/step - loss: 0.1269 - acc: 0.9654 - val_loss: 0.1242 - val_acc: 0.9648\n",
      "Epoch 379/500\n",
      "387/387 [==============================] - 24s 61ms/step - loss: 0.1293 - acc: 0.9652 - val_loss: 0.1287 - val_acc: 0.9641\n",
      "Epoch 380/500\n",
      "387/387 [==============================] - 24s 61ms/step - loss: 0.1260 - acc: 0.9661 - val_loss: 0.1298 - val_acc: 0.9637\n",
      "Epoch 381/500\n",
      "387/387 [==============================] - 24s 61ms/step - loss: 0.1324 - acc: 0.9635 - val_loss: 0.1435 - val_acc: 0.9557\n",
      "Epoch 382/500\n",
      "387/387 [==============================] - 24s 61ms/step - loss: 0.1260 - acc: 0.9650 - val_loss: 0.1254 - val_acc: 0.9623\n",
      "Epoch 383/500\n",
      "387/387 [==============================] - 23s 61ms/step - loss: 0.1251 - acc: 0.9660 - val_loss: 0.1198 - val_acc: 0.9633\n",
      "Epoch 384/500\n",
      "387/387 [==============================] - 23s 61ms/step - loss: 0.1289 - acc: 0.9646 - val_loss: 0.1278 - val_acc: 0.9626\n",
      "Epoch 385/500\n",
      "387/387 [==============================] - 23s 61ms/step - loss: 0.1285 - acc: 0.9651 - val_loss: 0.1343 - val_acc: 0.9612\n",
      "Epoch 386/500\n",
      "387/387 [==============================] - 24s 61ms/step - loss: 0.1313 - acc: 0.9638 - val_loss: 0.1518 - val_acc: 0.9535\n",
      "Epoch 387/500\n",
      "387/387 [==============================] - 23s 60ms/step - loss: 0.1301 - acc: 0.9649 - val_loss: 0.1295 - val_acc: 0.9644\n",
      "Epoch 388/500\n",
      "387/387 [==============================] - 24s 61ms/step - loss: 0.1273 - acc: 0.9651 - val_loss: 0.1323 - val_acc: 0.9637\n",
      "Epoch 389/500\n",
      "387/387 [==============================] - 23s 60ms/step - loss: 0.1259 - acc: 0.9655 - val_loss: 0.1317 - val_acc: 0.9633\n",
      "Epoch 390/500\n",
      "387/387 [==============================] - 23s 60ms/step - loss: 0.1313 - acc: 0.9653 - val_loss: 0.1327 - val_acc: 0.9623\n",
      "Epoch 391/500\n",
      "387/387 [==============================] - 23s 60ms/step - loss: 0.1286 - acc: 0.9653 - val_loss: 0.1433 - val_acc: 0.9568\n",
      "Epoch 392/500\n",
      "387/387 [==============================] - 23s 60ms/step - loss: 0.1277 - acc: 0.9644 - val_loss: 0.1312 - val_acc: 0.9608\n",
      "Epoch 393/500\n",
      "387/387 [==============================] - 24s 61ms/step - loss: 0.1252 - acc: 0.9664 - val_loss: 0.1296 - val_acc: 0.9619\n",
      "Epoch 394/500\n",
      "387/387 [==============================] - 24s 61ms/step - loss: 0.1274 - acc: 0.9650 - val_loss: 0.1441 - val_acc: 0.9590\n",
      "Epoch 395/500\n",
      "387/387 [==============================] - 23s 60ms/step - loss: 0.1280 - acc: 0.9652 - val_loss: 0.1318 - val_acc: 0.9601\n",
      "Epoch 396/500\n",
      "387/387 [==============================] - 24s 61ms/step - loss: 0.1273 - acc: 0.9645 - val_loss: 0.1255 - val_acc: 0.9641\n",
      "Epoch 397/500\n",
      "387/387 [==============================] - 23s 60ms/step - loss: 0.1283 - acc: 0.9651 - val_loss: 0.1294 - val_acc: 0.9659\n",
      "Epoch 398/500\n",
      "387/387 [==============================] - 23s 60ms/step - loss: 0.1296 - acc: 0.9650 - val_loss: 0.1251 - val_acc: 0.9637\n",
      "Epoch 399/500\n",
      "387/387 [==============================] - 23s 59ms/step - loss: 0.1292 - acc: 0.9650 - val_loss: 0.1318 - val_acc: 0.9644\n",
      "Epoch 400/500\n",
      "387/387 [==============================] - 23s 60ms/step - loss: 0.1277 - acc: 0.9652 - val_loss: 0.1292 - val_acc: 0.9612\n",
      "Epoch 401/500\n",
      "387/387 [==============================] - 23s 61ms/step - loss: 0.1241 - acc: 0.9668 - val_loss: 0.1405 - val_acc: 0.9633\n",
      "Epoch 402/500\n",
      "387/387 [==============================] - 23s 60ms/step - loss: 0.1287 - acc: 0.9662 - val_loss: 0.1396 - val_acc: 0.9623\n",
      "Epoch 403/500\n",
      "387/387 [==============================] - 23s 60ms/step - loss: 0.1307 - acc: 0.9648 - val_loss: 0.1333 - val_acc: 0.9586\n",
      "Epoch 404/500\n",
      "387/387 [==============================] - 23s 60ms/step - loss: 0.1274 - acc: 0.9656 - val_loss: 0.1270 - val_acc: 0.9652\n",
      "Epoch 405/500\n",
      "387/387 [==============================] - 23s 60ms/step - loss: 0.1285 - acc: 0.9657 - val_loss: 0.1285 - val_acc: 0.9641\n",
      "Epoch 406/500\n",
      "387/387 [==============================] - 23s 60ms/step - loss: 0.1286 - acc: 0.9647 - val_loss: 0.1457 - val_acc: 0.9575\n",
      "Epoch 407/500\n",
      "387/387 [==============================] - 23s 60ms/step - loss: 0.1296 - acc: 0.9643 - val_loss: 0.1294 - val_acc: 0.9626\n",
      "Epoch 408/500\n",
      "387/387 [==============================] - 24s 61ms/step - loss: 0.1301 - acc: 0.9647 - val_loss: 0.1248 - val_acc: 0.9633\n",
      "Epoch 409/500\n",
      "387/387 [==============================] - 23s 61ms/step - loss: 0.1244 - acc: 0.9664 - val_loss: 0.1286 - val_acc: 0.9626\n",
      "Epoch 410/500\n",
      "387/387 [==============================] - 23s 60ms/step - loss: 0.1293 - acc: 0.9651 - val_loss: 0.1374 - val_acc: 0.9648\n",
      "Epoch 411/500\n",
      "387/387 [==============================] - 23s 60ms/step - loss: 0.1298 - acc: 0.9654 - val_loss: 0.1547 - val_acc: 0.9535\n",
      "Epoch 412/500\n",
      "387/387 [==============================] - 23s 60ms/step - loss: 0.1291 - acc: 0.9644 - val_loss: 0.1254 - val_acc: 0.9652\n",
      "Epoch 413/500\n",
      "387/387 [==============================] - 23s 60ms/step - loss: 0.1265 - acc: 0.9654 - val_loss: 0.1343 - val_acc: 0.9590\n",
      "Epoch 414/500\n",
      "387/387 [==============================] - 23s 60ms/step - loss: 0.1275 - acc: 0.9652 - val_loss: 0.1435 - val_acc: 0.9561\n",
      "Epoch 415/500\n",
      "387/387 [==============================] - 23s 60ms/step - loss: 0.1287 - acc: 0.9649 - val_loss: 0.1313 - val_acc: 0.9623\n",
      "Epoch 416/500\n",
      "387/387 [==============================] - 23s 60ms/step - loss: 0.1268 - acc: 0.9656 - val_loss: 0.1331 - val_acc: 0.9608\n",
      "Epoch 417/500\n",
      "387/387 [==============================] - 24s 61ms/step - loss: 0.1256 - acc: 0.9656 - val_loss: 0.1293 - val_acc: 0.9626\n",
      "Epoch 418/500\n",
      "387/387 [==============================] - 23s 61ms/step - loss: 0.1299 - acc: 0.9653 - val_loss: 0.1320 - val_acc: 0.9623\n",
      "Epoch 419/500\n",
      "387/387 [==============================] - 23s 59ms/step - loss: 0.1281 - acc: 0.9657 - val_loss: 0.1391 - val_acc: 0.9608\n",
      "Epoch 420/500\n",
      "387/387 [==============================] - 23s 60ms/step - loss: 0.1305 - acc: 0.9651 - val_loss: 0.1307 - val_acc: 0.9630\n",
      "Epoch 421/500\n",
      "387/387 [==============================] - 23s 60ms/step - loss: 0.1288 - acc: 0.9649 - val_loss: 0.1327 - val_acc: 0.9630\n",
      "Epoch 422/500\n",
      "387/387 [==============================] - 24s 61ms/step - loss: 0.1273 - acc: 0.9655 - val_loss: 0.1279 - val_acc: 0.9637\n",
      "Epoch 423/500\n",
      "387/387 [==============================] - 23s 60ms/step - loss: 0.1293 - acc: 0.9648 - val_loss: 0.1261 - val_acc: 0.9626\n",
      "Epoch 424/500\n",
      "387/387 [==============================] - 23s 60ms/step - loss: 0.1295 - acc: 0.9652 - val_loss: 0.1267 - val_acc: 0.9630\n",
      "Epoch 425/500\n",
      "387/387 [==============================] - 23s 60ms/step - loss: 0.1227 - acc: 0.9671 - val_loss: 0.1361 - val_acc: 0.9608\n",
      "Epoch 426/500\n",
      "387/387 [==============================] - 24s 61ms/step - loss: 0.1283 - acc: 0.9641 - val_loss: 0.1352 - val_acc: 0.9612\n",
      "Epoch 427/500\n",
      "387/387 [==============================] - 23s 60ms/step - loss: 0.1253 - acc: 0.9661 - val_loss: 0.1283 - val_acc: 0.9659\n",
      "Epoch 428/500\n",
      "387/387 [==============================] - 24s 61ms/step - loss: 0.1274 - acc: 0.9646 - val_loss: 0.1305 - val_acc: 0.9579\n",
      "Epoch 429/500\n",
      "387/387 [==============================] - 23s 61ms/step - loss: 0.1287 - acc: 0.9640 - val_loss: 0.1314 - val_acc: 0.9623\n",
      "Epoch 430/500\n",
      "387/387 [==============================] - 24s 61ms/step - loss: 0.1287 - acc: 0.9649 - val_loss: 0.1308 - val_acc: 0.9623\n",
      "Epoch 431/500\n",
      "387/387 [==============================] - 23s 60ms/step - loss: 0.1264 - acc: 0.9663 - val_loss: 0.1363 - val_acc: 0.9608\n",
      "Epoch 432/500\n",
      "387/387 [==============================] - 23s 61ms/step - loss: 0.1285 - acc: 0.9648 - val_loss: 0.1255 - val_acc: 0.9626\n",
      "Epoch 433/500\n",
      "387/387 [==============================] - 23s 60ms/step - loss: 0.1254 - acc: 0.9649 - val_loss: 0.1326 - val_acc: 0.9626\n",
      "Epoch 434/500\n",
      "387/387 [==============================] - 23s 61ms/step - loss: 0.1261 - acc: 0.9656 - val_loss: 0.1275 - val_acc: 0.9633\n",
      "Epoch 435/500\n",
      "387/387 [==============================] - 23s 60ms/step - loss: 0.1268 - acc: 0.9657 - val_loss: 0.1399 - val_acc: 0.9575\n",
      "Epoch 436/500\n",
      "387/387 [==============================] - 23s 60ms/step - loss: 0.1228 - acc: 0.9665 - val_loss: 0.1357 - val_acc: 0.9597\n",
      "Epoch 437/500\n",
      "387/387 [==============================] - 23s 61ms/step - loss: 0.1290 - acc: 0.9645 - val_loss: 0.1276 - val_acc: 0.9633\n",
      "Epoch 438/500\n",
      "387/387 [==============================] - 23s 60ms/step - loss: 0.1318 - acc: 0.9642 - val_loss: 0.1433 - val_acc: 0.9554\n",
      "Epoch 439/500\n",
      "387/387 [==============================] - 23s 60ms/step - loss: 0.1238 - acc: 0.9665 - val_loss: 0.1280 - val_acc: 0.9652\n",
      "Epoch 440/500\n",
      "387/387 [==============================] - 23s 60ms/step - loss: 0.1265 - acc: 0.9661 - val_loss: 0.1316 - val_acc: 0.9641\n",
      "Epoch 441/500\n",
      "387/387 [==============================] - 23s 61ms/step - loss: 0.1292 - acc: 0.9653 - val_loss: 0.1400 - val_acc: 0.9586\n",
      "Epoch 442/500\n",
      "387/387 [==============================] - 24s 61ms/step - loss: 0.1306 - acc: 0.9638 - val_loss: 0.1297 - val_acc: 0.9637\n",
      "Epoch 443/500\n",
      "387/387 [==============================] - 23s 60ms/step - loss: 0.1256 - acc: 0.9664 - val_loss: 0.1252 - val_acc: 0.9641\n",
      "Epoch 444/500\n",
      "387/387 [==============================] - 23s 60ms/step - loss: 0.1267 - acc: 0.9661 - val_loss: 0.1327 - val_acc: 0.9630\n",
      "Epoch 445/500\n",
      "387/387 [==============================] - 23s 61ms/step - loss: 0.1285 - acc: 0.9653 - val_loss: 0.1353 - val_acc: 0.9633\n",
      "Epoch 446/500\n",
      "387/387 [==============================] - 23s 60ms/step - loss: 0.1247 - acc: 0.9671 - val_loss: 0.1272 - val_acc: 0.9633\n",
      "Epoch 447/500\n",
      "387/387 [==============================] - 23s 60ms/step - loss: 0.1272 - acc: 0.9645 - val_loss: 0.1400 - val_acc: 0.9597\n",
      "Epoch 448/500\n",
      "387/387 [==============================] - 23s 60ms/step - loss: 0.1266 - acc: 0.9660 - val_loss: 0.1324 - val_acc: 0.9615\n",
      "Epoch 449/500\n",
      "387/387 [==============================] - 23s 61ms/step - loss: 0.1272 - acc: 0.9640 - val_loss: 0.1219 - val_acc: 0.9659\n",
      "Epoch 450/500\n",
      "387/387 [==============================] - 23s 61ms/step - loss: 0.1254 - acc: 0.9657 - val_loss: 0.1298 - val_acc: 0.9623\n",
      "Epoch 451/500\n",
      "387/387 [==============================] - 23s 59ms/step - loss: 0.1287 - acc: 0.9650 - val_loss: 0.1351 - val_acc: 0.9608\n",
      "Epoch 452/500\n",
      "387/387 [==============================] - 23s 61ms/step - loss: 0.1305 - acc: 0.9640 - val_loss: 0.1297 - val_acc: 0.9626\n",
      "Epoch 453/500\n",
      "387/387 [==============================] - 23s 60ms/step - loss: 0.1296 - acc: 0.9646 - val_loss: 0.1283 - val_acc: 0.9615\n",
      "Epoch 454/500\n",
      "387/387 [==============================] - 23s 60ms/step - loss: 0.1257 - acc: 0.9667 - val_loss: 0.1327 - val_acc: 0.9644\n",
      "Epoch 455/500\n",
      "387/387 [==============================] - 23s 60ms/step - loss: 0.1290 - acc: 0.9652 - val_loss: 0.1243 - val_acc: 0.9641\n",
      "Epoch 456/500\n",
      "387/387 [==============================] - 23s 61ms/step - loss: 0.1290 - acc: 0.9654 - val_loss: 0.1445 - val_acc: 0.9568\n",
      "Epoch 457/500\n",
      "387/387 [==============================] - 23s 60ms/step - loss: 0.1297 - acc: 0.9642 - val_loss: 0.1375 - val_acc: 0.9626\n",
      "Epoch 458/500\n",
      "387/387 [==============================] - 23s 60ms/step - loss: 0.1313 - acc: 0.9635 - val_loss: 0.1322 - val_acc: 0.9601\n",
      "Epoch 459/500\n",
      "387/387 [==============================] - 23s 60ms/step - loss: 0.1287 - acc: 0.9653 - val_loss: 0.1249 - val_acc: 0.9619\n",
      "Epoch 460/500\n",
      "387/387 [==============================] - 23s 61ms/step - loss: 0.1264 - acc: 0.9667 - val_loss: 0.1414 - val_acc: 0.9623\n",
      "Epoch 461/500\n",
      "387/387 [==============================] - 23s 60ms/step - loss: 0.1226 - acc: 0.9672 - val_loss: 0.1259 - val_acc: 0.9652\n",
      "Epoch 462/500\n",
      "387/387 [==============================] - 23s 60ms/step - loss: 0.1294 - acc: 0.9645 - val_loss: 0.1302 - val_acc: 0.9601\n",
      "Epoch 463/500\n",
      "387/387 [==============================] - 23s 60ms/step - loss: 0.1246 - acc: 0.9662 - val_loss: 0.1283 - val_acc: 0.9644\n",
      "Epoch 464/500\n",
      "387/387 [==============================] - 23s 60ms/step - loss: 0.1260 - acc: 0.9665 - val_loss: 0.1309 - val_acc: 0.9637\n",
      "Epoch 465/500\n",
      "387/387 [==============================] - 23s 61ms/step - loss: 0.1236 - acc: 0.9665 - val_loss: 0.1312 - val_acc: 0.9641\n",
      "Epoch 466/500\n",
      "387/387 [==============================] - 24s 61ms/step - loss: 0.1300 - acc: 0.9644 - val_loss: 0.1347 - val_acc: 0.9633\n",
      "Epoch 467/500\n",
      "387/387 [==============================] - 23s 60ms/step - loss: 0.1290 - acc: 0.9651 - val_loss: 0.1239 - val_acc: 0.9659\n",
      "Epoch 468/500\n",
      "387/387 [==============================] - 23s 60ms/step - loss: 0.1272 - acc: 0.9650 - val_loss: 0.1313 - val_acc: 0.9608\n",
      "Epoch 469/500\n",
      "387/387 [==============================] - 24s 61ms/step - loss: 0.1246 - acc: 0.9670 - val_loss: 0.1253 - val_acc: 0.9641\n",
      "Epoch 470/500\n",
      "387/387 [==============================] - 23s 61ms/step - loss: 0.1286 - acc: 0.9639 - val_loss: 0.1344 - val_acc: 0.9601\n",
      "Epoch 471/500\n",
      "387/387 [==============================] - 23s 60ms/step - loss: 0.1273 - acc: 0.9649 - val_loss: 0.1296 - val_acc: 0.9619\n",
      "Epoch 472/500\n",
      "387/387 [==============================] - 23s 61ms/step - loss: 0.1282 - acc: 0.9648 - val_loss: 0.1275 - val_acc: 0.9597\n",
      "Epoch 473/500\n",
      "387/387 [==============================] - 23s 60ms/step - loss: 0.1242 - acc: 0.9665 - val_loss: 0.1305 - val_acc: 0.9633\n",
      "Epoch 474/500\n",
      "387/387 [==============================] - 23s 61ms/step - loss: 0.1225 - acc: 0.9663 - val_loss: 0.1344 - val_acc: 0.9637\n",
      "Epoch 475/500\n",
      "387/387 [==============================] - 23s 59ms/step - loss: 0.1271 - acc: 0.9654 - val_loss: 0.1268 - val_acc: 0.9615\n",
      "Epoch 476/500\n",
      "387/387 [==============================] - 23s 61ms/step - loss: 0.1230 - acc: 0.9677 - val_loss: 0.1292 - val_acc: 0.9644\n",
      "Epoch 477/500\n",
      "387/387 [==============================] - 23s 60ms/step - loss: 0.1256 - acc: 0.9669 - val_loss: 0.1307 - val_acc: 0.9593\n",
      "Epoch 478/500\n",
      "387/387 [==============================] - 24s 61ms/step - loss: 0.1306 - acc: 0.9650 - val_loss: 0.1376 - val_acc: 0.9575\n",
      "Epoch 479/500\n",
      "387/387 [==============================] - 23s 60ms/step - loss: 0.1294 - acc: 0.9654 - val_loss: 0.1344 - val_acc: 0.9583\n",
      "Epoch 480/500\n",
      "387/387 [==============================] - 24s 61ms/step - loss: 0.1270 - acc: 0.9648 - val_loss: 0.1360 - val_acc: 0.9579\n",
      "Epoch 481/500\n",
      "387/387 [==============================] - 23s 60ms/step - loss: 0.1257 - acc: 0.9665 - val_loss: 0.1275 - val_acc: 0.9670\n",
      "Epoch 482/500\n",
      "387/387 [==============================] - 23s 60ms/step - loss: 0.1275 - acc: 0.9651 - val_loss: 0.1298 - val_acc: 0.9655\n",
      "Epoch 483/500\n",
      "387/387 [==============================] - 23s 60ms/step - loss: 0.1291 - acc: 0.9653 - val_loss: 0.1427 - val_acc: 0.9572\n",
      "Epoch 484/500\n",
      "387/387 [==============================] - 23s 60ms/step - loss: 0.1277 - acc: 0.9658 - val_loss: 0.1346 - val_acc: 0.9597\n",
      "Epoch 485/500\n",
      "387/387 [==============================] - 23s 60ms/step - loss: 0.1295 - acc: 0.9641 - val_loss: 0.1294 - val_acc: 0.9623\n",
      "Epoch 486/500\n",
      "387/387 [==============================] - 23s 60ms/step - loss: 0.1245 - acc: 0.9663 - val_loss: 0.1298 - val_acc: 0.9615\n",
      "Epoch 487/500\n",
      "387/387 [==============================] - 23s 60ms/step - loss: 0.1289 - acc: 0.9656 - val_loss: 0.1377 - val_acc: 0.9637\n",
      "Epoch 488/500\n",
      "387/387 [==============================] - 23s 61ms/step - loss: 0.1218 - acc: 0.9670 - val_loss: 0.1344 - val_acc: 0.9593\n",
      "Epoch 489/500\n",
      "387/387 [==============================] - 24s 61ms/step - loss: 0.1266 - acc: 0.9651 - val_loss: 0.1250 - val_acc: 0.9637\n",
      "Epoch 490/500\n",
      "387/387 [==============================] - 24s 61ms/step - loss: 0.1246 - acc: 0.9669 - val_loss: 0.1332 - val_acc: 0.9641\n",
      "Epoch 491/500\n",
      "387/387 [==============================] - 24s 61ms/step - loss: 0.1267 - acc: 0.9669 - val_loss: 0.1336 - val_acc: 0.9601\n",
      "Epoch 492/500\n",
      "387/387 [==============================] - 23s 60ms/step - loss: 0.1277 - acc: 0.9655 - val_loss: 0.1294 - val_acc: 0.9608\n",
      "Epoch 493/500\n",
      "387/387 [==============================] - 23s 61ms/step - loss: 0.1228 - acc: 0.9667 - val_loss: 0.1321 - val_acc: 0.9612\n",
      "Epoch 494/500\n",
      "387/387 [==============================] - 24s 61ms/step - loss: 0.1265 - acc: 0.9661 - val_loss: 0.1380 - val_acc: 0.9590\n",
      "Epoch 495/500\n",
      "387/387 [==============================] - 23s 60ms/step - loss: 0.1269 - acc: 0.9650 - val_loss: 0.1253 - val_acc: 0.9652\n",
      "Epoch 496/500\n",
      "387/387 [==============================] - 23s 60ms/step - loss: 0.1250 - acc: 0.9657 - val_loss: 0.1288 - val_acc: 0.9623\n",
      "Epoch 497/500\n",
      "387/387 [==============================] - 23s 60ms/step - loss: 0.1253 - acc: 0.9668 - val_loss: 0.1294 - val_acc: 0.9641\n",
      "Epoch 498/500\n",
      "387/387 [==============================] - 23s 60ms/step - loss: 0.1255 - acc: 0.9659 - val_loss: 0.1275 - val_acc: 0.9623\n",
      "Epoch 499/500\n",
      "387/387 [==============================] - 23s 61ms/step - loss: 0.1262 - acc: 0.9663 - val_loss: 0.1479 - val_acc: 0.9568\n",
      "Epoch 500/500\n",
      "387/387 [==============================] - 23s 60ms/step - loss: 0.1280 - acc: 0.9666 - val_loss: 0.1335 - val_acc: 0.9586\n"
     ]
    }
   ],
   "source": [
    "# Fit the model\n",
    "history = model.fit_generator(datagen.flow(x_train,y_train, batch_size=batch_size),\n",
    "                              epochs = epochs, validation_data = (x_test,y_test),\n",
    "                              verbose = 1, steps_per_epoch=x_train.shape[0] // batch_size)"
   ]
  },
  {
   "cell_type": "markdown",
   "metadata": {},
   "source": [
    "## Model Evaluation"
   ]
  },
  {
   "cell_type": "code",
   "execution_count": 19,
   "metadata": {
    "execution": {
     "iopub.execute_input": "2022-09-18T09:13:52.202755Z",
     "iopub.status.busy": "2022-09-18T09:13:52.202559Z",
     "iopub.status.idle": "2022-09-18T09:13:53.000723Z",
     "shell.execute_reply": "2022-09-18T09:13:53.000026Z",
     "shell.execute_reply.started": "2022-09-18T09:13:52.202724Z"
    }
   },
   "outputs": [
    {
     "name": "stdout",
     "output_type": "stream",
     "text": [
      "2755/2755 [==============================] - 1s 287us/step\n",
      "\n",
      " Test_Accuracy:- 0.9586206896768075\n"
     ]
    }
   ],
   "source": [
    "# checking the accuracy of thr \n",
    "accuracy = model.evaluate(x_test, y_test, verbose=1)\n",
    "print('\\n', 'Test_Accuracy:-', accuracy[1])"
   ]
  },
  {
   "cell_type": "markdown",
   "metadata": {
    "_uuid": "a0847ce4de2fa9510cf9956da852bf55b7b59cc3"
   },
   "source": [
    "### !!! Great we achived 95.10% validation accuracy"
   ]
  },
  {
   "cell_type": "markdown",
   "metadata": {
    "_uuid": "824b11937fd9ca33679bea75c307d61317fdcdf5"
   },
   "source": [
    "Now plot confusion matrix"
   ]
  },
  {
   "cell_type": "code",
   "execution_count": 20,
   "metadata": {
    "_uuid": "ef2abb7585f0e1f27a7180b2cd5cd5ccba46310b",
    "execution": {
     "iopub.execute_input": "2022-09-18T09:13:53.002041Z",
     "iopub.status.busy": "2022-09-18T09:13:53.001793Z",
     "iopub.status.idle": "2022-09-18T09:13:53.801967Z",
     "shell.execute_reply": "2022-09-18T09:13:53.800894Z",
     "shell.execute_reply.started": "2022-09-18T09:13:53.002005Z"
    }
   },
   "outputs": [],
   "source": [
    "from sklearn.metrics import confusion_matrix\n",
    "pred = model.predict(x_test)\n",
    "pred = np.argmax(pred,axis = 1) \n",
    "y_true = np.argmax(y_test,axis = 1)"
   ]
  },
  {
   "cell_type": "code",
   "execution_count": 21,
   "metadata": {
    "_uuid": "ea6c027d90e5fca0f51c5be2ad6f71262dc1a399",
    "execution": {
     "iopub.execute_input": "2022-09-18T09:13:53.803526Z",
     "iopub.status.busy": "2022-09-18T09:13:53.803277Z",
     "iopub.status.idle": "2022-09-18T09:13:53.922522Z",
     "shell.execute_reply": "2022-09-18T09:13:53.921314Z",
     "shell.execute_reply.started": "2022-09-18T09:13:53.803475Z"
    }
   },
   "outputs": [
    {
     "data": {
      "image/png": "[encoded data removed]",
      "text/plain": [
       "<Figure size 360x360 with 1 Axes>"
      ]
     },
     "metadata": {
      "needs_background": "light"
     },
     "output_type": "display_data"
    }
   ],
   "source": [
    "CM = confusion_matrix(y_true, pred)\n",
    "from mlxtend.plotting import plot_confusion_matrix\n",
    "fig, ax = plot_confusion_matrix(conf_mat=CM ,  figsize=(5, 5))\n",
    "plt.show()"
   ]
  },
  {
   "cell_type": "code",
   "execution_count": 22,
   "metadata": {
    "execution": {
     "iopub.execute_input": "2022-09-18T09:13:53.924176Z",
     "iopub.status.busy": "2022-09-18T09:13:53.923949Z",
     "iopub.status.idle": "2022-09-18T09:13:53.931343Z",
     "shell.execute_reply": "2022-09-18T09:13:53.929771Z",
     "shell.execute_reply.started": "2022-09-18T09:13:53.924134Z"
    }
   },
   "outputs": [
    {
     "data": {
      "text/plain": [
       "0.9371841155234657"
      ]
     },
     "execution_count": 22,
     "metadata": {},
     "output_type": "execute_result"
    }
   ],
   "source": [
    "Recall=1298/(1298+87)\n",
    "Recall"
   ]
  },
  {
   "cell_type": "code",
   "execution_count": 23,
   "metadata": {
    "execution": {
     "iopub.execute_input": "2022-09-18T09:13:53.933191Z",
     "iopub.status.busy": "2022-09-18T09:13:53.932882Z",
     "iopub.status.idle": "2022-09-18T09:13:53.940256Z",
     "shell.execute_reply": "2022-09-18T09:13:53.939454Z",
     "shell.execute_reply.started": "2022-09-18T09:13:53.933123Z"
    }
   },
   "outputs": [
    {
     "data": {
      "text/plain": [
       "0.9643387815750372"
      ]
     },
     "execution_count": 23,
     "metadata": {},
     "output_type": "execute_result"
    }
   ],
   "source": [
    "Precision = 1298/(1298+48)\n",
    "Precision"
   ]
  },
  {
   "cell_type": "markdown",
   "metadata": {},
   "source": [
    "## Plotting History of Model's Accuracy"
   ]
  },
  {
   "cell_type": "code",
   "execution_count": 24,
   "metadata": {
    "execution": {
     "iopub.execute_input": "2022-09-18T09:13:53.941568Z",
     "iopub.status.busy": "2022-09-18T09:13:53.941316Z",
     "iopub.status.idle": "2022-09-18T09:13:54.159361Z",
     "shell.execute_reply": "2022-09-18T09:13:54.158450Z",
     "shell.execute_reply.started": "2022-09-18T09:13:53.941525Z"
    }
   },
   "outputs": [
    {
     "data": {
      "image/png": "[encoded data removed]",
      "text/plain": [
       "<Figure size 720x720 with 1 Axes>"
      ]
     },
     "metadata": {
      "needs_background": "light"
     },
     "output_type": "display_data"
    }
   ],
   "source": [
    "def visualize_training(history, lw = 3):\n",
    "    plt.figure(figsize=(10,10))\n",
    "    plt.subplot(2,1,1)\n",
    "    plt.plot(history.history['acc'], label = 'Training', marker = '*', linewidth = lw)\n",
    "    plt.plot(history.history['val_acc'], label = 'Validation', marker = 'o', linewidth = lw)\n",
    "    plt.title('Deep-RDAUG Accuracy Comparison')\n",
    "    plt.xlabel('Epochs')\n",
    "    plt.ylabel('Accuracy')\n",
    "    plt.grid(True)\n",
    "    plt.legend(fontsize = 'x-large')\n",
    "    \n",
    "\n",
    "\n",
    "\n",
    "\n",
    "visualize_training(history)\n"
   ]
  },
  {
   "cell_type": "code",
   "execution_count": 25,
   "metadata": {
    "execution": {
     "iopub.execute_input": "2022-09-18T09:13:54.160793Z",
     "iopub.status.busy": "2022-09-18T09:13:54.160545Z",
     "iopub.status.idle": "2022-09-18T09:13:54.347712Z",
     "shell.execute_reply": "2022-09-18T09:13:54.346774Z",
     "shell.execute_reply.started": "2022-09-18T09:13:54.160746Z"
    }
   },
   "outputs": [
    {
     "data": {
      "image/png": "[encoded data removed]",
      "text/plain": [
       "<Figure size 720x720 with 1 Axes>"
      ]
     },
     "metadata": {
      "needs_background": "light"
     },
     "output_type": "display_data"
    }
   ],
   "source": [
    "def visualize_training(history, lw = 3):\n",
    "    plt.figure(figsize=(10,10))\n",
    "    plt.subplot(2,1,2)\n",
    "    plt.plot(history.history['loss'], label = 'Training', marker = '*', linewidth = lw)\n",
    "    plt.plot(history.history['val_loss'], label = 'Validation', marker = 'o', linewidth = lw)\n",
    "    plt.title('Deep-RDAUG Loss Comparison')\n",
    "    plt.xlabel('Epochs')\n",
    "    plt.ylabel('Loss')\n",
    "    plt.legend(fontsize = 'x-large')\n",
    "    plt.grid(True)\n",
    "    plt.show()\n",
    "\n",
    "\n",
    "visualize_training(history)"
   ]
  },
  {
   "cell_type": "markdown",
   "metadata": {},
   "source": [
    "## Printing Classification report"
   ]
  },
  {
   "cell_type": "code",
   "execution_count": 26,
   "metadata": {
    "execution": {
     "iopub.execute_input": "2022-09-18T09:13:54.349151Z",
     "iopub.status.busy": "2022-09-18T09:13:54.348917Z",
     "iopub.status.idle": "2022-09-18T09:13:54.353270Z",
     "shell.execute_reply": "2022-09-18T09:13:54.352442Z",
     "shell.execute_reply.started": "2022-09-18T09:13:54.349105Z"
    }
   },
   "outputs": [],
   "source": [
    "from sklearn.metrics import roc_curve,auc,classification_report"
   ]
  },
  {
   "cell_type": "code",
   "execution_count": 27,
   "metadata": {
    "execution": {
     "iopub.execute_input": "2022-09-18T09:13:54.355093Z",
     "iopub.status.busy": "2022-09-18T09:13:54.354804Z",
     "iopub.status.idle": "2022-09-18T09:13:54.371885Z",
     "shell.execute_reply": "2022-09-18T09:13:54.370358Z",
     "shell.execute_reply.started": "2022-09-18T09:13:54.355034Z"
    }
   },
   "outputs": [
    {
     "name": "stdout",
     "output_type": "stream",
     "text": [
      "              precision    recall  f1-score   support\n",
      "\n",
      "           0       0.95      0.97      0.96      1395\n",
      "           1       0.96      0.95      0.96      1360\n",
      "\n",
      "    accuracy                           0.96      2755\n",
      "   macro avg       0.96      0.96      0.96      2755\n",
      "weighted avg       0.96      0.96      0.96      2755\n",
      "\n"
     ]
    }
   ],
   "source": [
    "print('{}'.format( \n",
    "                           classification_report(y_true , pred)))"
   ]
  },
  {
   "cell_type": "markdown",
   "metadata": {},
   "source": [
    "## Plotting ROC AUC Curve"
   ]
  },
  {
   "cell_type": "markdown",
   "metadata": {},
   "source": [
    "In this step we will first compute Are Under Curve (AUC) based on which we plot ROC curve"
   ]
  },
  {
   "cell_type": "markdown",
   "metadata": {},
   "source": [
    "## Computing Area Under Curve (AUC)"
   ]
  },
  {
   "cell_type": "code",
   "execution_count": 28,
   "metadata": {
    "execution": {
     "iopub.execute_input": "2022-09-18T09:13:54.373680Z",
     "iopub.status.busy": "2022-09-18T09:13:54.373400Z",
     "iopub.status.idle": "2022-09-18T09:13:54.381932Z",
     "shell.execute_reply": "2022-09-18T09:13:54.380728Z",
     "shell.execute_reply.started": "2022-09-18T09:13:54.373631Z"
    }
   },
   "outputs": [
    {
     "data": {
      "text/plain": [
       "0.9585309930423782"
      ]
     },
     "execution_count": 28,
     "metadata": {},
     "output_type": "execute_result"
    }
   ],
   "source": [
    "fpr_keras, tpr_keras, thresholds = roc_curve(y_true.ravel(), pred.ravel())\n",
    "auc_keras = auc(fpr_keras, tpr_keras)\n",
    "auc_keras"
   ]
  },
  {
   "cell_type": "code",
   "execution_count": 29,
   "metadata": {
    "execution": {
     "iopub.execute_input": "2022-09-18T09:13:54.383933Z",
     "iopub.status.busy": "2022-09-18T09:13:54.383665Z",
     "iopub.status.idle": "2022-09-18T09:13:54.390279Z",
     "shell.execute_reply": "2022-09-18T09:13:54.389247Z",
     "shell.execute_reply.started": "2022-09-18T09:13:54.383886Z"
    }
   },
   "outputs": [],
   "source": [
    "def plot_roc_curve(fpr, tpr):\n",
    "    plt.figure(figsize=(10,6))\n",
    "    plt.plot(fpr, tpr, color='orange', label='ROC')\n",
    "    plt.plot([0, 1], [0, 1], color='darkblue', linestyle='--')\n",
    "    plt.xlabel('False Positive Rate')\n",
    "    plt.ylabel('True Positive Rate')\n",
    "    plt.title('Receiver Operating Characteristic (ROC) Curve')\n",
    "    plt.legend()\n",
    "    plt.show()"
   ]
  },
  {
   "cell_type": "code",
   "execution_count": 30,
   "metadata": {
    "execution": {
     "iopub.execute_input": "2022-09-18T09:13:54.391670Z",
     "iopub.status.busy": "2022-09-18T09:13:54.391348Z",
     "iopub.status.idle": "2022-09-18T09:13:54.558152Z",
     "shell.execute_reply": "2022-09-18T09:13:54.556839Z",
     "shell.execute_reply.started": "2022-09-18T09:13:54.391593Z"
    }
   },
   "outputs": [
    {
     "data": {
      "image/png": "[encoded data removed]",
      "text/plain": [
       "<Figure size 720x432 with 1 Axes>"
      ]
     },
     "metadata": {
      "needs_background": "light"
     },
     "output_type": "display_data"
    }
   ],
   "source": [
    "plot_roc_curve(fpr_keras, tpr_keras)"
   ]
  },
  {
   "cell_type": "code",
   "execution_count": 31,
   "metadata": {
    "execution": {
     "iopub.execute_input": "2022-09-18T09:13:54.560590Z",
     "iopub.status.busy": "2022-09-18T09:13:54.560303Z",
     "iopub.status.idle": "2022-09-18T09:13:54.566551Z",
     "shell.execute_reply": "2022-09-18T09:13:54.565706Z",
     "shell.execute_reply.started": "2022-09-18T09:13:54.560555Z"
    }
   },
   "outputs": [],
   "source": [
    "def plot_roc_curve(fpr, tpr):\n",
    "    plt.figure(figsize=(10,6))\n",
    "    plt.plot(fpr, tpr, color='orange', label='Sequential CNN (AUROC = %0.3f)' % auc_keras)\n",
    "    plt.plot([0, 1], [0, 1], color='darkblue', linestyle='--')\n",
    "    plt.xlabel('False Positive Rate')\n",
    "    plt.ylabel('True Positive Rate')\n",
    "    plt.title('Receiver Operating Characteristic (ROC) Curve')\n",
    "    plt.legend()\n",
    "    plt.show()"
   ]
  },
  {
   "cell_type": "code",
   "execution_count": 32,
   "metadata": {
    "execution": {
     "iopub.execute_input": "2022-09-18T09:13:54.569511Z",
     "iopub.status.busy": "2022-09-18T09:13:54.569235Z",
     "iopub.status.idle": "2022-09-18T09:13:54.733849Z",
     "shell.execute_reply": "2022-09-18T09:13:54.732549Z",
     "shell.execute_reply.started": "2022-09-18T09:13:54.569462Z"
    }
   },
   "outputs": [
    {
     "data": {
      "image/png": "[encoded data removed]",
      "text/plain": [
       "<Figure size 720x432 with 1 Axes>"
      ]
     },
     "metadata": {
      "needs_background": "light"
     },
     "output_type": "display_data"
    }
   ],
   "source": [
    "plot_roc_curve(fpr_keras, tpr_keras)"
   ]
  },
  {
   "cell_type": "code",
   "execution_count": null,
   "metadata": {},
   "outputs": [],
   "source": []
  }
 ],
 "metadata": {
  "kernelspec": {
   "display_name": "Python 3 (ipykernel)",
   "language": "python",
   "name": "python3"
  },
  "language_info": {
   "codemirror_mode": {
    "name": "ipython",
    "version": 3
   },
   "file_extension": ".py",
   "mimetype": "text/x-python",
   "name": "python",
   "nbconvert_exporter": "python",
   "pygments_lexer": "ipython3",
   "version": "3.10.9"
  }
 },
 "nbformat": 4,
 "nbformat_minor": 4
}
